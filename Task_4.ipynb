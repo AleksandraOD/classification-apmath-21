{
  "nbformat": 4,
  "nbformat_minor": 0,
  "metadata": {
    "kernelspec": {
      "display_name": "Python 3",
      "language": "python",
      "name": "python3"
    },
    "language_info": {
      "codemirror_mode": {
        "name": "ipython",
        "version": 3
      },
      "file_extension": ".py",
      "mimetype": "text/x-python",
      "name": "python",
      "nbconvert_exporter": "python",
      "pygments_lexer": "ipython3",
      "version": "3.6.9"
    },
    "colab": {
      "name": "Task_4.ipynb",
      "provenance": [],
      "include_colab_link": true
    }
  },
  "cells": [
    {
      "cell_type": "markdown",
      "metadata": {
        "id": "view-in-github",
        "colab_type": "text"
      },
      "source": [
        "<a href=\"https://colab.research.google.com/github/AleksandraOD/classification-apmath-21/blob/main/Task_4.ipynb\" target=\"_parent\"><img src=\"https://colab.research.google.com/assets/colab-badge.svg\" alt=\"Open In Colab\"/></a>"
      ]
    },
    {
      "cell_type": "markdown",
      "metadata": {
        "id": "rQn5fasypjIw"
      },
      "source": [
        "# Линейная регрессия"
      ]
    },
    {
      "cell_type": "markdown",
      "metadata": {
        "id": "3Ae182fApjI0"
      },
      "source": [
        "Данные содержатся в файле `data/lin_reg.txt`. Прочитать их можно следующим так:"
      ]
    },
    {
      "cell_type": "code",
      "metadata": {
        "id": "zrS9-4nQpjI1"
      },
      "source": [
        "import numpy as np\n",
        "D = np.loadtxt('/content/drive/MyDrive/Colab Notebooks/classification-apmath-21/data/lin_reg.txt', delimiter=',')\n",
        "X = D[:, :-1]\n",
        "Y = D[:, -1]"
      ],
      "execution_count": 5,
      "outputs": []
    },
    {
      "cell_type": "code",
      "metadata": {
        "colab": {
          "base_uri": "https://localhost:8080/"
        },
        "id": "K3Yn2W2Gp4jy",
        "outputId": "4efd8b4a-fd21-446f-b442-9a5674111808"
      },
      "source": [
        "from google.colab import drive\n",
        "drive.mount('/content/drive')"
      ],
      "execution_count": null,
      "outputs": [
        {
          "output_type": "stream",
          "name": "stdout",
          "text": [
            "Mounted at /content/drive\n"
          ]
        }
      ]
    },
    {
      "cell_type": "markdown",
      "metadata": {
        "id": "xHxiZ_OGpjI3"
      },
      "source": [
        "При выполнении заданий **нельзя** пользоваться `scikit-learn` и т.п., только `NumPy`/`JAX`/`TF`/`PyTorch` и `matplotlib`/`seaborn`/`plotly`/etc.\n",
        "\n",
        "1. Нарисуйте график среднеквадратичной ошибки в зависимости от параметра регуляризации $\\alpha$, используя полные данные для обучения и для тестирования. \n",
        "2. Подготовьте исходные данные для 5 fold CV.\n",
        "3. С помощью CV найдите оптимальное значение $\\alpha$ на какой-нибудь сетке значений.\n",
        "4. Постройте валидационную кривую. \n",
        "5. Постройте кривую обучения."
      ]
    },
    {
      "cell_type": "code",
      "metadata": {
        "id": "vm7wZ6sEpjI4"
      },
      "source": [
        "import matplotlib.pyplot as plt\n",
        "import random"
      ],
      "execution_count": 6,
      "outputs": []
    },
    {
      "cell_type": "markdown",
      "metadata": {
        "id": "MBKtstvjq6eN"
      },
      "source": [
        "Нарисуйте график среднеквадратичной ошибки в зависимости от параметра регуляризации  𝛼 , используя полные данные \n",
        "\n",
        "для обучения и для тестирования."
      ]
    },
    {
      "cell_type": "code",
      "metadata": {
        "id": "cGoaFsZyqW7Z"
      },
      "source": [
        "def mse(y_true, y_predicted):\n",
        "    return (np.sum((y_predicted - y_true)**2)) / len(y_true)"
      ],
      "execution_count": 7,
      "outputs": []
    },
    {
      "cell_type": "code",
      "metadata": {
        "id": "bT4sLYrGqcAZ"
      },
      "source": [
        "class LinR:\n",
        "    def __init__(self, alpha=0):\n",
        "        self.alpha = alpha\n",
        "    \n",
        "    def fit(self, X, y):\n",
        "        ones = np.ones((X.shape[0], 1))\n",
        "        X = np.concatenate((X, ones), axis = 1)\n",
        "        self.w = np.linalg.inv(X.T @ X + self.alpha * np.eye(X.shape[1])) @ X.T @ y\n",
        "        \n",
        "    def predict(self, X):\n",
        "        ones = np.ones((X.shape[0], 1))\n",
        "        X = np.concatenate((X, ones), axis = 1)\n",
        "        return X @ self.w"
      ],
      "execution_count": 8,
      "outputs": []
    },
    {
      "cell_type": "code",
      "metadata": {
        "colab": {
          "base_uri": "https://localhost:8080/",
          "height": 295
        },
        "id": "3DgHtEd6qg2C",
        "outputId": "1500babe-7fa7-4d6d-e398-4a925992e1a8"
      },
      "source": [
        "alphas = np.linspace(0,100,1000)\n",
        "errors = []\n",
        "for alpha in alphas:\n",
        "    regr = LinR(alpha=alpha)\n",
        "    regr.fit(X, Y)\n",
        "    errors.append(mse(Y, regr.predict(X)))\n",
        "plt.figure()\n",
        "plt.plot(alphas, errors)\n",
        "plt.title('MSE Curve')\n",
        "plt.xlabel('alpha')\n",
        "plt.ylabel('Error')\n",
        "plt.show()"
      ],
      "execution_count": 10,
      "outputs": [
        {
          "output_type": "display_data",
          "data": {
            "image/png": "[encoded data removed]",
            "text/plain": [
              "<Figure size 432x288 with 1 Axes>"
            ]
          },
          "metadata": {
            "needs_background": "light"
          }
        }
      ]
    },
    {
      "cell_type": "markdown",
      "metadata": {
        "id": "aYq7DFmMrDWK"
      },
      "source": [
        "Подготовьте исходные данные для 5 fold CV."
      ]
    },
    {
      "cell_type": "code",
      "metadata": {
        "id": "IULvz_K0qq38"
      },
      "source": [
        "def k_fold_split(n, k):\n",
        "    fold_indeces = np.arange(n) \n",
        "    fold_indeces = np.split(fold_indeces, k)\n",
        "    return np.array(fold_indeces)"
      ],
      "execution_count": 13,
      "outputs": []
    },
    {
      "cell_type": "code",
      "metadata": {
        "id": "MOKc4K2bqsbl"
      },
      "source": [
        "def validation_curve(X, y, k, alphas):\n",
        "    indeces = k_fold_split(len(y), k)\n",
        "    fold_list = np.arange(k)\n",
        "    \n",
        "\n",
        "    train_errors = []\n",
        "    validation_errors = []\n",
        "    for alpha in alphas:\n",
        "        tr_errors = np.zeros(k)\n",
        "        val_errors = np.zeros(k)\n",
        "        for i in range(k):\n",
        "            regr = LinR(alpha=alpha)\n",
        "            tr_indeces = indeces[np.delete(fold_list, i)].ravel()\n",
        "            val_indeces = indeces[i].ravel()\n",
        "            regr.fit(X[tr_indeces], y[tr_indeces])\n",
        "            \n",
        "            tr_errors[i] = mse(y[tr_indeces], regr.predict(X[tr_indeces]))\n",
        "            val_errors[i] = mse(y[val_indeces], regr.predict(X[val_indeces]))\n",
        "        train_errors.append(tr_errors)\n",
        "        validation_errors.append(val_errors)\n",
        "    return np.mean(train_errors, axis = 1 ), np.mean(validation_errors, axis = 1)"
      ],
      "execution_count": 18,
      "outputs": []
    },
    {
      "cell_type": "code",
      "metadata": {
        "id": "pP8FUBjdrJ6d"
      },
      "source": [
        "k = 5"
      ],
      "execution_count": 19,
      "outputs": []
    },
    {
      "cell_type": "code",
      "metadata": {
        "id": "vev7HMkprPIl"
      },
      "source": [
        "Y = np.reshape(Y, (len(Y), 1))\n",
        "XX = np.concatenate((X, Y), axis=1)\n",
        "np.random.shuffle(XX) \n",
        "X_shuffled, Y_shuffled = XX[:,:-1], XX[:,-1]"
      ],
      "execution_count": 20,
      "outputs": []
    },
    {
      "cell_type": "markdown",
      "metadata": {
        "id": "SmG1_0--rrB1"
      },
      "source": [
        "С помощью CV найдите оптимальное значение  𝛼  на какой-нибудь сетке значений.\n",
        "Постройте валидационную кривую."
      ]
    },
    {
      "cell_type": "code",
      "metadata": {
        "colab": {
          "base_uri": "https://localhost:8080/",
          "height": 312
        },
        "id": "Nxs4B7AmrUsv",
        "outputId": "72353455-061d-4542-88fd-b47d973029a3"
      },
      "source": [
        "alphas = np.logspace(-2, 3, 500)\n",
        "train_errors, validation_errors = validation_curve(X_shuffled, Y_shuffled, k, alphas)\n",
        "plt.figure()\n",
        "plt.plot(alphas, train_errors)\n",
        "plt.plot(alphas,  validation_errors)\n",
        "plt.title('Validation Curve')\n",
        "plt.legend(['Train', 'Cross Validation'])\n",
        "plt.xlabel('alpha')\n",
        "plt.ylabel('Error')\n",
        "plt.show()\n",
        "best_alpha = alphas[np.argmin(validation_errors)]\n",
        "print('best alpha: ', best_alpha)"
      ],
      "execution_count": 25,
      "outputs": [
        {
          "output_type": "display_data",
          "data": {
            "image/png": "[encoded data removed]",
            "text/plain": [
              "<Figure size 432x288 with 1 Axes>"
            ]
          },
          "metadata": {
            "needs_background": "light"
          }
        },
        {
          "output_type": "stream",
          "name": "stdout",
          "text": [
            "best alpha:  11.916598430985587\n"
          ]
        }
      ]
    },
    {
      "cell_type": "markdown",
      "metadata": {
        "id": "5wo801rjrsrB"
      },
      "source": [
        "Постройте кривую обучения."
      ]
    },
    {
      "cell_type": "code",
      "metadata": {
        "id": "G8II5-FNrwBO"
      },
      "source": [
        "def learning_curve(X, y, k, alpha):\n",
        "    indeces = k_fold_split(len(y), k)\n",
        "    fold_list = np.arange(k)\n",
        "    \n",
        "    train_errors = []\n",
        "    validation_errors = []\n",
        "    for j in range(indeces.shape[1]*(k-1)):\n",
        "        tr_errors = np.zeros(k)\n",
        "        val_errors = np.zeros(k)\n",
        "        for i in range(k):\n",
        "            regr = LinR(alpha=alpha)\n",
        "            tr_indeces = indeces[np.delete(fold_list, i)].ravel()\n",
        "            val_indeces = indeces[i].ravel()\n",
        "            x_i = X[tr_indeces][:j+1]\n",
        "            y_i = y[tr_indeces][:j+1]\n",
        "            x_val = X[val_indeces]\n",
        "            y_val = y[val_indeces]\n",
        "            regr.fit(x_i, y_i)\n",
        "            \n",
        "            tr_errors[i] = mse(y_i, regr.predict(x_i))\n",
        "            val_errors[i] = mse(y_val, regr.predict(x_val))\n",
        "        train_errors.append(tr_errors)\n",
        "        validation_errors.append(val_errors)\n",
        "    return np.mean(train_errors, axis=1), np.mean(validation_errors, axis=1)"
      ],
      "execution_count": 22,
      "outputs": []
    },
    {
      "cell_type": "code",
      "metadata": {
        "colab": {
          "base_uri": "https://localhost:8080/",
          "height": 295
        },
        "id": "2G6AUB8Pr2dZ",
        "outputId": "aecec5dd-e46c-423c-f309-bdc12dd99e32"
      },
      "source": [
        "error_train, error_val = learning_curve(X_shuffled, Y_shuffled, k, best_alpha)\n",
        "m = len(X_shuffled) / k * (k - 1)\n",
        "\n",
        "plt.figure()\n",
        "plt.plot(np.arange(m), error_train)\n",
        "plt.plot(np.arange(m),  error_val)\n",
        "plt.title('Learning Curve')\n",
        "plt.legend(['Train', 'Cross Validation'])\n",
        "plt.xlabel('Number of Training Examples')\n",
        "plt.ylabel('Error')\n",
        "plt.axis([0, m, 0, 200])\n",
        "plt.show()"
      ],
      "execution_count": 23,
      "outputs": [
        {
          "output_type": "display_data",
          "data": {
            "image/png": "[encoded data removed]",
            "text/plain": [
              "<Figure size 432x288 with 1 Axes>"
            ]
          },
          "metadata": {
            "needs_background": "light"
          }
        }
      ]
    }
  ]
}