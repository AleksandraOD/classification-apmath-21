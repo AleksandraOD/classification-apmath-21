{
  "nbformat": 4,
  "nbformat_minor": 0,
  "metadata": {
    "kernelspec": {
      "display_name": "Python 3",
      "language": "python",
      "name": "python3"
    },
    "language_info": {
      "name": "python",
      "version": "3.7.8",
      "mimetype": "text/x-python",
      "codemirror_mode": {
        "name": "ipython",
        "version": 3
      },
      "pygments_lexer": "ipython3",
      "nbconvert_exporter": "python",
      "file_extension": ".py"
    },
    "colab": {
      "name": "Task_3.ipynb",
      "provenance": [],
      "include_colab_link": true
    }
  },
  "cells": [
    {
      "cell_type": "markdown",
      "metadata": {
        "id": "view-in-github",
        "colab_type": "text"
      },
      "source": [
        "<a href=\"https://colab.research.google.com/github/AleksandraOD/classification-apmath-21/blob/main/Task_3.ipynb\" target=\"_parent\"><img src=\"https://colab.research.google.com/assets/colab-badge.svg\" alt=\"Open In Colab\"/></a>"
      ]
    },
    {
      "cell_type": "code",
      "metadata": {
        "collapsed": true,
        "jupyter": {
          "outputs_hidden": true
        },
        "id": "F8Ot3wZtu47c"
      },
      "source": [
        "import pandas as pd\n",
        "import matplotlib.pyplot as plt"
      ],
      "execution_count": null,
      "outputs": []
    },
    {
      "cell_type": "markdown",
      "metadata": {
        "id": "F4mT8n-Eu47h"
      },
      "source": [
        "В файле `data/weather.csv` находит архив погоды в г. Санкт-Петербург с 1 января 2008 года по 31 декабря 2016 года. Файл состоит из двух столбцов - дата (**Day**) и средняя дневная температура в этот день (**t**). Прочитать данные в `pandas` можно с помощью кода:"
      ]
    },
    {
      "cell_type": "code",
      "metadata": {
        "id": "QxN9tikDu47j"
      },
      "source": [
        "df = pd.read_csv('/content/drive/MyDrive/Colab Notebooks/classification-apmath-21/data/weather.csv', encoding='utf-8', index_col=False, parse_dates=[0])"
      ],
      "execution_count": 4,
      "outputs": []
    },
    {
      "cell_type": "code",
      "metadata": {
        "id": "nL8SfiFGu8xr",
        "colab": {
          "base_uri": "https://localhost:8080/"
        },
        "outputId": "251ab6cf-d49f-46a9-bff7-ba3526c57311"
      },
      "source": [
        "from google.colab import drive\n",
        "drive.mount('/content/drive')"
      ],
      "execution_count": 5,
      "outputs": [
        {
          "output_type": "stream",
          "name": "stdout",
          "text": [
            "Drive already mounted at /content/drive; to attempt to forcibly remount, call drive.mount(\"/content/drive\", force_remount=True).\n"
          ]
        }
      ]
    },
    {
      "cell_type": "code",
      "metadata": {
        "id": "QulvIZxou47j",
        "colab": {
          "base_uri": "https://localhost:8080/",
          "height": 204
        },
        "outputId": "1cde751b-3b55-416a-c08e-4150269ff623"
      },
      "source": [
        "df.head(5)"
      ],
      "execution_count": 6,
      "outputs": [
        {
          "output_type": "execute_result",
          "data": {
            "text/html": [
              "<div>\n",
              "<style scoped>\n",
              "    .dataframe tbody tr th:only-of-type {\n",
              "        vertical-align: middle;\n",
              "    }\n",
              "\n",
              "    .dataframe tbody tr th {\n",
              "        vertical-align: top;\n",
              "    }\n",
              "\n",
              "    .dataframe thead th {\n",
              "        text-align: right;\n",
              "    }\n",
              "</style>\n",
              "<table border=\"1\" class=\"dataframe\">\n",
              "  <thead>\n",
              "    <tr style=\"text-align: right;\">\n",
              "      <th></th>\n",
              "      <th>Day</th>\n",
              "      <th>t</th>\n",
              "    </tr>\n",
              "  </thead>\n",
              "  <tbody>\n",
              "    <tr>\n",
              "      <th>0</th>\n",
              "      <td>2008-01-01</td>\n",
              "      <td>0</td>\n",
              "    </tr>\n",
              "    <tr>\n",
              "      <th>1</th>\n",
              "      <td>2008-01-02</td>\n",
              "      <td>-5</td>\n",
              "    </tr>\n",
              "    <tr>\n",
              "      <th>2</th>\n",
              "      <td>2008-01-03</td>\n",
              "      <td>-11</td>\n",
              "    </tr>\n",
              "    <tr>\n",
              "      <th>3</th>\n",
              "      <td>2008-01-04</td>\n",
              "      <td>-11</td>\n",
              "    </tr>\n",
              "    <tr>\n",
              "      <th>4</th>\n",
              "      <td>2008-01-05</td>\n",
              "      <td>-12</td>\n",
              "    </tr>\n",
              "  </tbody>\n",
              "</table>\n",
              "</div>"
            ],
            "text/plain": [
              "         Day   t\n",
              "0 2008-01-01   0\n",
              "1 2008-01-02  -5\n",
              "2 2008-01-03 -11\n",
              "3 2008-01-04 -11\n",
              "4 2008-01-05 -12"
            ]
          },
          "metadata": {},
          "execution_count": 6
        }
      ]
    },
    {
      "cell_type": "markdown",
      "metadata": {
        "id": "uFBC5u8Uu47l"
      },
      "source": [
        "С помощью `Pandas` решите следующие задачи"
      ]
    },
    {
      "cell_type": "markdown",
      "metadata": {
        "id": "0B-lf7hCu47l"
      },
      "source": [
        "**1.** Определите самый холодный год, в котором среднеяя температура была минимальная и самый теплый год. "
      ]
    },
    {
      "cell_type": "code",
      "metadata": {
        "collapsed": true,
        "jupyter": {
          "outputs_hidden": true
        },
        "id": "d1edHrneu47m",
        "colab": {
          "base_uri": "https://localhost:8080/"
        },
        "outputId": "9e7fb963-ed59-4db3-8f7b-1744a7b00d82"
      },
      "source": [
        "df = pd.read_csv('/content/drive/MyDrive/Colab Notebooks/classification-apmath-21/data/weather.csv', encoding='utf-8', index_col=False, parse_dates=[0])\n",
        "\n",
        "df['Year'] = df['Day'].astype(str).str.slice(0, 4)\n",
        "y_grouped = df.groupby('Year', as_index=False).mean()\n",
        "\n",
        "# print(d_grouped)\n",
        "\n",
        "y_min = y_grouped.loc[y_grouped['t'].idxmin()]['Year']\n",
        "y_max = y_grouped.loc[y_grouped['t'].idxmax()]['Year']\n",
        "\n",
        "print(\"Min\", y_min)\n",
        "print(\"Max\", y_max)"
      ],
      "execution_count": 8,
      "outputs": [
        {
          "output_type": "stream",
          "name": "stdout",
          "text": [
            "Min 2012\n",
            "Max 2015\n"
          ]
        }
      ]
    },
    {
      "cell_type": "markdown",
      "metadata": {
        "id": "YFNCsy0Yu47m"
      },
      "source": [
        "**2.** Определите год, где в январе было наибольшее число дней с положительной температурой ($\\text{t} \\ge 0$)."
      ]
    },
    {
      "cell_type": "code",
      "metadata": {
        "collapsed": true,
        "jupyter": {
          "outputs_hidden": true
        },
        "id": "8xsRm7OGu47n",
        "colab": {
          "base_uri": "https://localhost:8080/"
        },
        "outputId": "130d5cc4-69bb-497b-b764-07e107561c46"
      },
      "source": [
        "df['Year'] = df['Day'].astype(str).str.slice(0, 4)\n",
        "df = df.drop(df[df['t'] <= 0].index)\n",
        "y_grouped = df.groupby('Year')['Year'].count()\n",
        "\n",
        "#y_min = y_grouped.idxmin()\n",
        "y_max = y_grouped.idxmax()\n",
        "\n",
        "#print(\"Min\", y_min)\n",
        "print(\"Max\", y_max)"
      ],
      "execution_count": 9,
      "outputs": [
        {
          "output_type": "stream",
          "name": "stdout",
          "text": [
            "Max 2015\n"
          ]
        }
      ]
    },
    {
      "cell_type": "markdown",
      "metadata": {
        "id": "S39HC_9ju47n"
      },
      "source": [
        "**3.** В каком году было самое холодное лето (по средней температуре)"
      ]
    },
    {
      "cell_type": "code",
      "metadata": {
        "collapsed": true,
        "jupyter": {
          "outputs_hidden": true
        },
        "id": "FkXEmo28u47o",
        "colab": {
          "base_uri": "https://localhost:8080/"
        },
        "outputId": "77d35b4e-4850-427e-d366-7e5b7b73f172"
      },
      "source": [
        "df['Year'] = df['Day'].astype(str).str.slice(0, 4).astype(int)\n",
        "df['Month'] = df['Day'].astype(str).str.slice(5, 7).astype(int)\n",
        "\n",
        "df = df.drop(df[df['Month'] < 6].index)\n",
        "df = df.drop(df[df['Month'] > 8].index)\n",
        "\n",
        "y_grouped = df.groupby('Year', as_index=False).mean()\n",
        "\n",
        "y_min = int(y_grouped.loc[y_grouped['t'].idxmax()]['Year'])\n",
        "\n",
        "print(y_min)"
      ],
      "execution_count": 10,
      "outputs": [
        {
          "output_type": "stream",
          "name": "stdout",
          "text": [
            "2010\n"
          ]
        }
      ]
    },
    {
      "cell_type": "markdown",
      "metadata": {
        "id": "8mmLWyQEu47o"
      },
      "source": [
        "**4.** Найдите день с самой большим перепадом температуры, если сравнивать со следующим днем. "
      ]
    },
    {
      "cell_type": "code",
      "metadata": {
        "collapsed": true,
        "jupyter": {
          "outputs_hidden": true
        },
        "id": "kq24K72Nu47p",
        "colab": {
          "base_uri": "https://localhost:8080/"
        },
        "outputId": "a9439e97-b6d9-4493-e631-0e5a2338cb08"
      },
      "source": [
        "df[\"Delta t\"] = abs(df['t'].diff().shift(-1))\n",
        "\n",
        "print(df.loc[df['Delta t'].idxmax()])"
      ],
      "execution_count": 11,
      "outputs": [
        {
          "output_type": "stream",
          "name": "stdout",
          "text": [
            "Day        2008-08-31 00:00:00\n",
            "t                           10\n",
            "Year                      2008\n",
            "Month                        8\n",
            "Delta t                     15\n",
            "Name: 242, dtype: object\n"
          ]
        }
      ]
    },
    {
      "cell_type": "markdown",
      "metadata": {
        "id": "-ahMjlVsu47p"
      },
      "source": [
        "**5.** Постройте график среднегодовых температур (по оси $x$ - год, по оси $y$ - средняя температура в этот год)."
      ]
    },
    {
      "cell_type": "code",
      "metadata": {
        "collapsed": true,
        "jupyter": {
          "outputs_hidden": true
        },
        "id": "L4u6PCZOu47q",
        "colab": {
          "base_uri": "https://localhost:8080/",
          "height": 279
        },
        "outputId": "b043fd3d-d632-48a9-8c76-8663b90cb32e"
      },
      "source": [
        "df['Year'] = df['Day'].astype(str).str.slice(0, 4)\n",
        "y_grouped = df.groupby('Year').mean()\n",
        "\n",
        "y_grouped.plot()\n",
        "plt.show()"
      ],
      "execution_count": 12,
      "outputs": [
        {
          "output_type": "display_data",
          "data": {
            "image/png": "[encoded data removed]",
            "text/plain": [
              "<Figure size 432x288 with 1 Axes>"
            ]
          },
          "metadata": {
            "needs_background": "light"
          }
        }
      ]
    }
  ]
}