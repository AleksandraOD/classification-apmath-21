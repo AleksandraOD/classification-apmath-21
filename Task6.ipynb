{
  "nbformat": 4,
  "nbformat_minor": 0,
  "metadata": {
    "colab": {
      "name": "Task6.ipynb",
      "provenance": [],
      "authorship_tag": "ABX9TyMpAn1N5sPi77wv3N1gii1J",
      "include_colab_link": true
    },
    "kernelspec": {
      "name": "python3",
      "display_name": "Python 3"
    },
    "language_info": {
      "name": "python"
    }
  },
  "cells": [
    {
      "cell_type": "markdown",
      "metadata": {
        "id": "view-in-github",
        "colab_type": "text"
      },
      "source": [
        "<a href=\"https://colab.research.google.com/github/AleksandraOD/classification-apmath-21/blob/main/Task6.ipynb\" target=\"_parent\"><img src=\"https://colab.research.google.com/assets/colab-badge.svg\" alt=\"Open In Colab\"/></a>"
      ]
    },
    {
      "cell_type": "code",
      "execution_count": 1,
      "metadata": {
        "colab": {
          "base_uri": "https://localhost:8080/"
        },
        "id": "FYEd1v8SoW_S",
        "outputId": "3d1e13b2-9f2f-4994-ae93-46dee3c9153f"
      },
      "outputs": [
        {
          "output_type": "stream",
          "name": "stdout",
          "text": [
            "Mounted at /content/drive\n"
          ]
        }
      ],
      "source": [
        "from google.colab import drive\n",
        "drive.mount('/content/drive')"
      ]
    },
    {
      "cell_type": "code",
      "source": [
        "!pip install pymorphy2"
      ],
      "metadata": {
        "colab": {
          "base_uri": "https://localhost:8080/"
        },
        "id": "uBn1pmA0rnyP",
        "outputId": "c90d1ebd-d4fe-4da2-844c-0d819bffb0ff"
      },
      "execution_count": 41,
      "outputs": [
        {
          "output_type": "stream",
          "name": "stdout",
          "text": [
            "Requirement already satisfied: pymorphy2 in /usr/local/lib/python3.7/dist-packages (0.9.1)\n",
            "Requirement already satisfied: pymorphy2-dicts-ru<3.0,>=2.4 in /usr/local/lib/python3.7/dist-packages (from pymorphy2) (2.4.417127.4579844)\n",
            "Requirement already satisfied: dawg-python>=0.7.1 in /usr/local/lib/python3.7/dist-packages (from pymorphy2) (0.7.2)\n",
            "Requirement already satisfied: docopt>=0.6 in /usr/local/lib/python3.7/dist-packages (from pymorphy2) (0.6.2)\n"
          ]
        }
      ]
    },
    {
      "cell_type": "code",
      "source": [
        "import pandas as pd\n",
        "import numpy as np\n",
        "from nltk.tokenize import RegexpTokenizer\n",
        "from nltk.corpus import stopwords\n",
        "from nltk.stem import PorterStemmer\n",
        "from nltk.stem import WordNetLemmatizer\n",
        "import nltk\n",
        "import pymorphy2\n",
        "from sklearn.preprocessing import LabelEncoder\n",
        "\n",
        "morph = pymorphy2.MorphAnalyzer()"
      ],
      "metadata": {
        "id": "jzLOmUy4oegy"
      },
      "execution_count": 56,
      "outputs": []
    },
    {
      "cell_type": "markdown",
      "source": [
        "1. Обработать данные, получив для каждого текста набор токенов\n",
        "2. Обработать токены с помощью pymorphy2"
      ],
      "metadata": {
        "id": "WVyAldWV4Eh6"
      }
    },
    {
      "cell_type": "code",
      "source": [
        "train_doc = \"/content/drive/MyDrive/Colab Notebooks/classification-apmath-21/data/news/news_train.txt\"\n",
        "test_doc = \"/content/drive/MyDrive/Colab Notebooks/classification-apmath-21/data/news/news_test.txt\""
      ],
      "metadata": {
        "id": "ahXf5xYDof2B"
      },
      "execution_count": 84,
      "outputs": []
    },
    {
      "cell_type": "code",
      "source": [
        "train_data = pd.read_csv(train_doc, sep=\"\\t\", names=['theme', 'headline', 'info'])\n",
        "test_data = pd.read_csv(test_doc, sep=\"\\t\", names=['theme', 'headline', 'info'])"
      ],
      "metadata": {
        "id": "TGypVj3DoiqJ"
      },
      "execution_count": 85,
      "outputs": []
    },
    {
      "cell_type": "code",
      "source": [
        "train_data.head()"
      ],
      "metadata": {
        "colab": {
          "base_uri": "https://localhost:8080/",
          "height": 204
        },
        "id": "bt-4a5dXopwf",
        "outputId": "fa825c00-65e8-4cdf-8e2d-1b956cae0dc0"
      },
      "execution_count": 45,
      "outputs": [
        {
          "output_type": "execute_result",
          "data": {
            "text/html": [
              "\n",
              "  <div id=\"df-0c856e55-c502-44a8-8d5f-9f17ad9c2e77\">\n",
              "    <div class=\"colab-df-container\">\n",
              "      <div>\n",
              "<style scoped>\n",
              "    .dataframe tbody tr th:only-of-type {\n",
              "        vertical-align: middle;\n",
              "    }\n",
              "\n",
              "    .dataframe tbody tr th {\n",
              "        vertical-align: top;\n",
              "    }\n",
              "\n",
              "    .dataframe thead th {\n",
              "        text-align: right;\n",
              "    }\n",
              "</style>\n",
              "<table border=\"1\" class=\"dataframe\">\n",
              "  <thead>\n",
              "    <tr style=\"text-align: right;\">\n",
              "      <th></th>\n",
              "      <th>theme</th>\n",
              "      <th>headline</th>\n",
              "      <th>info</th>\n",
              "    </tr>\n",
              "  </thead>\n",
              "  <tbody>\n",
              "    <tr>\n",
              "      <th>0</th>\n",
              "      <td>sport</td>\n",
              "      <td>Овечкин пожертвовал детской хоккейной школе ав...</td>\n",
              "      <td>Нападающий «Вашингтон Кэпиталз» Александр Овеч...</td>\n",
              "    </tr>\n",
              "    <tr>\n",
              "      <th>1</th>\n",
              "      <td>culture</td>\n",
              "      <td>Рекордно дорогую статую майя признали подделкой</td>\n",
              "      <td>Власти Мексики объявили подделкой статую майя,...</td>\n",
              "    </tr>\n",
              "    <tr>\n",
              "      <th>2</th>\n",
              "      <td>science</td>\n",
              "      <td>Samsung представила флагман в защищенном корпусе</td>\n",
              "      <td>Южнокорейская Samsung анонсировала защищенную ...</td>\n",
              "    </tr>\n",
              "    <tr>\n",
              "      <th>3</th>\n",
              "      <td>sport</td>\n",
              "      <td>С футболиста «Спартака» сняли четырехматчевую ...</td>\n",
              "      <td>Контрольно-дисциплинарный комитет (КДК) РФС сн...</td>\n",
              "    </tr>\n",
              "    <tr>\n",
              "      <th>4</th>\n",
              "      <td>media</td>\n",
              "      <td>Hopes &amp; Fears объединится с The Village</td>\n",
              "      <td>Интернет-издание Hopes &amp; Fears объявило о свое...</td>\n",
              "    </tr>\n",
              "  </tbody>\n",
              "</table>\n",
              "</div>\n",
              "      <button class=\"colab-df-convert\" onclick=\"convertToInteractive('df-0c856e55-c502-44a8-8d5f-9f17ad9c2e77')\"\n",
              "              title=\"Convert this dataframe to an interactive table.\"\n",
              "              style=\"display:none;\">\n",
              "        \n",
              "  <svg xmlns=\"http://www.w3.org/2000/svg\" height=\"24px\"viewBox=\"0 0 24 24\"\n",
              "       width=\"24px\">\n",
              "    <path d=\"M0 0h24v24H0V0z\" fill=\"none\"/>\n",
              "    <path d=\"M18.56 5.44l.94 2.06.94-2.06 2.06-.94-2.06-.94-.94-2.06-.94 2.06-2.06.94zm-11 1L8.5 8.5l.94-2.06 2.06-.94-2.06-.94L8.5 2.5l-.94 2.06-2.06.94zm10 10l.94 2.06.94-2.06 2.06-.94-2.06-.94-.94-2.06-.94 2.06-2.06.94z\"/><path d=\"M17.41 7.96l-1.37-1.37c-.4-.4-.92-.59-1.43-.59-.52 0-1.04.2-1.43.59L10.3 9.45l-7.72 7.72c-.78.78-.78 2.05 0 2.83L4 21.41c.39.39.9.59 1.41.59.51 0 1.02-.2 1.41-.59l7.78-7.78 2.81-2.81c.8-.78.8-2.07 0-2.86zM5.41 20L4 18.59l7.72-7.72 1.47 1.35L5.41 20z\"/>\n",
              "  </svg>\n",
              "      </button>\n",
              "      \n",
              "  <style>\n",
              "    .colab-df-container {\n",
              "      display:flex;\n",
              "      flex-wrap:wrap;\n",
              "      gap: 12px;\n",
              "    }\n",
              "\n",
              "    .colab-df-convert {\n",
              "      background-color: #E8F0FE;\n",
              "      border: none;\n",
              "      border-radius: 50%;\n",
              "      cursor: pointer;\n",
              "      display: none;\n",
              "      fill: #1967D2;\n",
              "      height: 32px;\n",
              "      padding: 0 0 0 0;\n",
              "      width: 32px;\n",
              "    }\n",
              "\n",
              "    .colab-df-convert:hover {\n",
              "      background-color: #E2EBFA;\n",
              "      box-shadow: 0px 1px 2px rgba(60, 64, 67, 0.3), 0px 1px 3px 1px rgba(60, 64, 67, 0.15);\n",
              "      fill: #174EA6;\n",
              "    }\n",
              "\n",
              "    [theme=dark] .colab-df-convert {\n",
              "      background-color: #3B4455;\n",
              "      fill: #D2E3FC;\n",
              "    }\n",
              "\n",
              "    [theme=dark] .colab-df-convert:hover {\n",
              "      background-color: #434B5C;\n",
              "      box-shadow: 0px 1px 3px 1px rgba(0, 0, 0, 0.15);\n",
              "      filter: drop-shadow(0px 1px 2px rgba(0, 0, 0, 0.3));\n",
              "      fill: #FFFFFF;\n",
              "    }\n",
              "  </style>\n",
              "\n",
              "      <script>\n",
              "        const buttonEl =\n",
              "          document.querySelector('#df-0c856e55-c502-44a8-8d5f-9f17ad9c2e77 button.colab-df-convert');\n",
              "        buttonEl.style.display =\n",
              "          google.colab.kernel.accessAllowed ? 'block' : 'none';\n",
              "\n",
              "        async function convertToInteractive(key) {\n",
              "          const element = document.querySelector('#df-0c856e55-c502-44a8-8d5f-9f17ad9c2e77');\n",
              "          const dataTable =\n",
              "            await google.colab.kernel.invokeFunction('convertToInteractive',\n",
              "                                                     [key], {});\n",
              "          if (!dataTable) return;\n",
              "\n",
              "          const docLinkHtml = 'Like what you see? Visit the ' +\n",
              "            '<a target=\"_blank\" href=https://colab.research.google.com/notebooks/data_table.ipynb>data table notebook</a>'\n",
              "            + ' to learn more about interactive tables.';\n",
              "          element.innerHTML = '';\n",
              "          dataTable['output_type'] = 'display_data';\n",
              "          await google.colab.output.renderOutput(dataTable, element);\n",
              "          const docLink = document.createElement('div');\n",
              "          docLink.innerHTML = docLinkHtml;\n",
              "          element.appendChild(docLink);\n",
              "        }\n",
              "      </script>\n",
              "    </div>\n",
              "  </div>\n",
              "  "
            ],
            "text/plain": [
              "     theme  ...                                               info\n",
              "0    sport  ...  Нападающий «Вашингтон Кэпиталз» Александр Овеч...\n",
              "1  culture  ...  Власти Мексики объявили подделкой статую майя,...\n",
              "2  science  ...  Южнокорейская Samsung анонсировала защищенную ...\n",
              "3    sport  ...  Контрольно-дисциплинарный комитет (КДК) РФС сн...\n",
              "4    media  ...  Интернет-издание Hopes & Fears объявило о свое...\n",
              "\n",
              "[5 rows x 3 columns]"
            ]
          },
          "metadata": {},
          "execution_count": 45
        }
      ]
    },
    {
      "cell_type": "code",
      "source": [
        "nltk.download('punkt')\n",
        "nltk.download('stopwords')"
      ],
      "metadata": {
        "colab": {
          "base_uri": "https://localhost:8080/"
        },
        "id": "cfQz1ucUqJji",
        "outputId": "521c8e2c-2158-41de-de4d-f71066a67d70"
      },
      "execution_count": 46,
      "outputs": [
        {
          "output_type": "stream",
          "name": "stdout",
          "text": [
            "[nltk_data] Downloading package punkt to /root/nltk_data...\n",
            "[nltk_data]   Package punkt is already up-to-date!\n",
            "[nltk_data] Downloading package stopwords to /root/nltk_data...\n",
            "[nltk_data]   Package stopwords is already up-to-date!\n"
          ]
        },
        {
          "output_type": "execute_result",
          "data": {
            "text/plain": [
              "True"
            ]
          },
          "metadata": {},
          "execution_count": 46
        }
      ]
    },
    {
      "cell_type": "code",
      "source": [
        "def tokenize_words(input):\n",
        "\n",
        "  input = input.lower()\n",
        "  filtered = []\n",
        "\n",
        "  tokenizer = RegexpTokenizer(r'\\w+')\n",
        "  tokens = tokenizer.tokenize(input)\n",
        "\n",
        "  for word in tokens:\n",
        "    word = morph.parse(word)[0].normal_form\n",
        "    if word not in stopwords.words('russian'):\n",
        "      filtered.append(word)\n",
        "\n",
        "  result = \" \".join(filtered)\n",
        "\n",
        "  return result\n",
        "\n",
        "\n"
      ],
      "metadata": {
        "id": "Bmno3B5-otXQ"
      },
      "execution_count": 47,
      "outputs": []
    },
    {
      "cell_type": "code",
      "source": [
        "for i in range(len(train_data)):\n",
        "  train_data[\"headline\"][i] = tokenize_words(train_data[\"headline\"][i])\n",
        "  train_data[\"info\"][i] = tokenize_words(train_data[\"info\"][i])"
      ],
      "metadata": {
        "id": "hWvp-lN8sOWo"
      },
      "execution_count": 87,
      "outputs": []
    },
    {
      "cell_type": "code",
      "source": [
        "# train_data[\"headline\"][1] = tokenize_words(train_data[\"headline\"][1])"
      ],
      "metadata": {
        "id": "t2zkBPp2p6bX"
      },
      "execution_count": 50,
      "outputs": []
    },
    {
      "cell_type": "code",
      "source": [
        "train_data.head()"
      ],
      "metadata": {
        "colab": {
          "base_uri": "https://localhost:8080/",
          "height": 204
        },
        "id": "wVyPR73MrHDf",
        "outputId": "d8463124-302a-43e7-be21-28d73f4db1a4"
      },
      "execution_count": 88,
      "outputs": [
        {
          "output_type": "execute_result",
          "data": {
            "text/html": [
              "\n",
              "  <div id=\"df-78b4f355-f717-4aa1-bcc4-6f084588a521\">\n",
              "    <div class=\"colab-df-container\">\n",
              "      <div>\n",
              "<style scoped>\n",
              "    .dataframe tbody tr th:only-of-type {\n",
              "        vertical-align: middle;\n",
              "    }\n",
              "\n",
              "    .dataframe tbody tr th {\n",
              "        vertical-align: top;\n",
              "    }\n",
              "\n",
              "    .dataframe thead th {\n",
              "        text-align: right;\n",
              "    }\n",
              "</style>\n",
              "<table border=\"1\" class=\"dataframe\">\n",
              "  <thead>\n",
              "    <tr style=\"text-align: right;\">\n",
              "      <th></th>\n",
              "      <th>theme</th>\n",
              "      <th>headline</th>\n",
              "      <th>info</th>\n",
              "    </tr>\n",
              "  </thead>\n",
              "  <tbody>\n",
              "    <tr>\n",
              "      <th>0</th>\n",
              "      <td>sport</td>\n",
              "      <td>овечкин пожертвовать детский хоккейный школа а...</td>\n",
              "      <td>нападать вашингтон кэпиталзти александр овечки...</td>\n",
              "    </tr>\n",
              "    <tr>\n",
              "      <th>1</th>\n",
              "      <td>culture</td>\n",
              "      <td>рекордно дорогой статуя майя признать подделка</td>\n",
              "      <td>власть мексика объявить подделка статуя майя п...</td>\n",
              "    </tr>\n",
              "    <tr>\n",
              "      <th>2</th>\n",
              "      <td>science</td>\n",
              "      <td>samsung представить флагман защитить корпус</td>\n",
              "      <td>южнокорейский samsung анонсировать защитить ве...</td>\n",
              "    </tr>\n",
              "    <tr>\n",
              "      <th>3</th>\n",
              "      <td>sport</td>\n",
              "      <td>футболист спартак снять четырехматчевой дисква...</td>\n",
              "      <td>контрольный дисциплинарный комитет кдк рфс сня...</td>\n",
              "    </tr>\n",
              "    <tr>\n",
              "      <th>4</th>\n",
              "      <td>media</td>\n",
              "      <td>hopes fears объединиться the village</td>\n",
              "      <td>интернет издание hopes fears объявить свой сли...</td>\n",
              "    </tr>\n",
              "  </tbody>\n",
              "</table>\n",
              "</div>\n",
              "      <button class=\"colab-df-convert\" onclick=\"convertToInteractive('df-78b4f355-f717-4aa1-bcc4-6f084588a521')\"\n",
              "              title=\"Convert this dataframe to an interactive table.\"\n",
              "              style=\"display:none;\">\n",
              "        \n",
              "  <svg xmlns=\"http://www.w3.org/2000/svg\" height=\"24px\"viewBox=\"0 0 24 24\"\n",
              "       width=\"24px\">\n",
              "    <path d=\"M0 0h24v24H0V0z\" fill=\"none\"/>\n",
              "    <path d=\"M18.56 5.44l.94 2.06.94-2.06 2.06-.94-2.06-.94-.94-2.06-.94 2.06-2.06.94zm-11 1L8.5 8.5l.94-2.06 2.06-.94-2.06-.94L8.5 2.5l-.94 2.06-2.06.94zm10 10l.94 2.06.94-2.06 2.06-.94-2.06-.94-.94-2.06-.94 2.06-2.06.94z\"/><path d=\"M17.41 7.96l-1.37-1.37c-.4-.4-.92-.59-1.43-.59-.52 0-1.04.2-1.43.59L10.3 9.45l-7.72 7.72c-.78.78-.78 2.05 0 2.83L4 21.41c.39.39.9.59 1.41.59.51 0 1.02-.2 1.41-.59l7.78-7.78 2.81-2.81c.8-.78.8-2.07 0-2.86zM5.41 20L4 18.59l7.72-7.72 1.47 1.35L5.41 20z\"/>\n",
              "  </svg>\n",
              "      </button>\n",
              "      \n",
              "  <style>\n",
              "    .colab-df-container {\n",
              "      display:flex;\n",
              "      flex-wrap:wrap;\n",
              "      gap: 12px;\n",
              "    }\n",
              "\n",
              "    .colab-df-convert {\n",
              "      background-color: #E8F0FE;\n",
              "      border: none;\n",
              "      border-radius: 50%;\n",
              "      cursor: pointer;\n",
              "      display: none;\n",
              "      fill: #1967D2;\n",
              "      height: 32px;\n",
              "      padding: 0 0 0 0;\n",
              "      width: 32px;\n",
              "    }\n",
              "\n",
              "    .colab-df-convert:hover {\n",
              "      background-color: #E2EBFA;\n",
              "      box-shadow: 0px 1px 2px rgba(60, 64, 67, 0.3), 0px 1px 3px 1px rgba(60, 64, 67, 0.15);\n",
              "      fill: #174EA6;\n",
              "    }\n",
              "\n",
              "    [theme=dark] .colab-df-convert {\n",
              "      background-color: #3B4455;\n",
              "      fill: #D2E3FC;\n",
              "    }\n",
              "\n",
              "    [theme=dark] .colab-df-convert:hover {\n",
              "      background-color: #434B5C;\n",
              "      box-shadow: 0px 1px 3px 1px rgba(0, 0, 0, 0.15);\n",
              "      filter: drop-shadow(0px 1px 2px rgba(0, 0, 0, 0.3));\n",
              "      fill: #FFFFFF;\n",
              "    }\n",
              "  </style>\n",
              "\n",
              "      <script>\n",
              "        const buttonEl =\n",
              "          document.querySelector('#df-78b4f355-f717-4aa1-bcc4-6f084588a521 button.colab-df-convert');\n",
              "        buttonEl.style.display =\n",
              "          google.colab.kernel.accessAllowed ? 'block' : 'none';\n",
              "\n",
              "        async function convertToInteractive(key) {\n",
              "          const element = document.querySelector('#df-78b4f355-f717-4aa1-bcc4-6f084588a521');\n",
              "          const dataTable =\n",
              "            await google.colab.kernel.invokeFunction('convertToInteractive',\n",
              "                                                     [key], {});\n",
              "          if (!dataTable) return;\n",
              "\n",
              "          const docLinkHtml = 'Like what you see? Visit the ' +\n",
              "            '<a target=\"_blank\" href=https://colab.research.google.com/notebooks/data_table.ipynb>data table notebook</a>'\n",
              "            + ' to learn more about interactive tables.';\n",
              "          element.innerHTML = '';\n",
              "          dataTable['output_type'] = 'display_data';\n",
              "          await google.colab.output.renderOutput(dataTable, element);\n",
              "          const docLink = document.createElement('div');\n",
              "          docLink.innerHTML = docLinkHtml;\n",
              "          element.appendChild(docLink);\n",
              "        }\n",
              "      </script>\n",
              "    </div>\n",
              "  </div>\n",
              "  "
            ],
            "text/plain": [
              "     theme  ...                                               info\n",
              "0    sport  ...  нападать вашингтон кэпиталзти александр овечки...\n",
              "1  culture  ...  власть мексика объявить подделка статуя майя п...\n",
              "2  science  ...  южнокорейский samsung анонсировать защитить ве...\n",
              "3    sport  ...  контрольный дисциплинарный комитет кдк рфс сня...\n",
              "4    media  ...  интернет издание hopes fears объявить свой сли...\n",
              "\n",
              "[5 rows x 3 columns]"
            ]
          },
          "metadata": {},
          "execution_count": 88
        }
      ]
    },
    {
      "cell_type": "code",
      "source": [
        "label_encoder = LabelEncoder()\n",
        "train_data['target'] = label_encoder.fit_transform(train_data['theme'])\n",
        "test_data['target'] = label_encoder.transform(test_data['theme'])\n"
      ],
      "metadata": {
        "id": "AW9ofGEx3oyY"
      },
      "execution_count": 93,
      "outputs": []
    },
    {
      "cell_type": "code",
      "source": [
        "train_data.head()"
      ],
      "metadata": {
        "colab": {
          "base_uri": "https://localhost:8080/",
          "height": 204
        },
        "id": "lwaG4QgvC-7K",
        "outputId": "daa16d1e-0da5-434f-c2b3-690e29451a3c"
      },
      "execution_count": 94,
      "outputs": [
        {
          "output_type": "execute_result",
          "data": {
            "text/html": [
              "\n",
              "  <div id=\"df-6db0c199-a408-4e44-897a-389715467c00\">\n",
              "    <div class=\"colab-df-container\">\n",
              "      <div>\n",
              "<style scoped>\n",
              "    .dataframe tbody tr th:only-of-type {\n",
              "        vertical-align: middle;\n",
              "    }\n",
              "\n",
              "    .dataframe tbody tr th {\n",
              "        vertical-align: top;\n",
              "    }\n",
              "\n",
              "    .dataframe thead th {\n",
              "        text-align: right;\n",
              "    }\n",
              "</style>\n",
              "<table border=\"1\" class=\"dataframe\">\n",
              "  <thead>\n",
              "    <tr style=\"text-align: right;\">\n",
              "      <th></th>\n",
              "      <th>theme</th>\n",
              "      <th>headline</th>\n",
              "      <th>info</th>\n",
              "      <th>target</th>\n",
              "    </tr>\n",
              "  </thead>\n",
              "  <tbody>\n",
              "    <tr>\n",
              "      <th>0</th>\n",
              "      <td>sport</td>\n",
              "      <td>овечкин пожертвовать детский хоккейный школа а...</td>\n",
              "      <td>нападать вашингтон кэпиталзти александр овечки...</td>\n",
              "      <td>7</td>\n",
              "    </tr>\n",
              "    <tr>\n",
              "      <th>1</th>\n",
              "      <td>culture</td>\n",
              "      <td>рекордно дорогой статуя майя признать подделка</td>\n",
              "      <td>власть мексика объявить подделка статуя майя п...</td>\n",
              "      <td>1</td>\n",
              "    </tr>\n",
              "    <tr>\n",
              "      <th>2</th>\n",
              "      <td>science</td>\n",
              "      <td>samsung представить флагман защитить корпус</td>\n",
              "      <td>южнокорейский samsung анонсировать защитить ве...</td>\n",
              "      <td>6</td>\n",
              "    </tr>\n",
              "    <tr>\n",
              "      <th>3</th>\n",
              "      <td>sport</td>\n",
              "      <td>футболист спартак снять четырехматчевой дисква...</td>\n",
              "      <td>контрольный дисциплинарный комитет кдк рфс сня...</td>\n",
              "      <td>7</td>\n",
              "    </tr>\n",
              "    <tr>\n",
              "      <th>4</th>\n",
              "      <td>media</td>\n",
              "      <td>hopes fears объединиться the village</td>\n",
              "      <td>интернет издание hopes fears объявить свой сли...</td>\n",
              "      <td>5</td>\n",
              "    </tr>\n",
              "  </tbody>\n",
              "</table>\n",
              "</div>\n",
              "      <button class=\"colab-df-convert\" onclick=\"convertToInteractive('df-6db0c199-a408-4e44-897a-389715467c00')\"\n",
              "              title=\"Convert this dataframe to an interactive table.\"\n",
              "              style=\"display:none;\">\n",
              "        \n",
              "  <svg xmlns=\"http://www.w3.org/2000/svg\" height=\"24px\"viewBox=\"0 0 24 24\"\n",
              "       width=\"24px\">\n",
              "    <path d=\"M0 0h24v24H0V0z\" fill=\"none\"/>\n",
              "    <path d=\"M18.56 5.44l.94 2.06.94-2.06 2.06-.94-2.06-.94-.94-2.06-.94 2.06-2.06.94zm-11 1L8.5 8.5l.94-2.06 2.06-.94-2.06-.94L8.5 2.5l-.94 2.06-2.06.94zm10 10l.94 2.06.94-2.06 2.06-.94-2.06-.94-.94-2.06-.94 2.06-2.06.94z\"/><path d=\"M17.41 7.96l-1.37-1.37c-.4-.4-.92-.59-1.43-.59-.52 0-1.04.2-1.43.59L10.3 9.45l-7.72 7.72c-.78.78-.78 2.05 0 2.83L4 21.41c.39.39.9.59 1.41.59.51 0 1.02-.2 1.41-.59l7.78-7.78 2.81-2.81c.8-.78.8-2.07 0-2.86zM5.41 20L4 18.59l7.72-7.72 1.47 1.35L5.41 20z\"/>\n",
              "  </svg>\n",
              "      </button>\n",
              "      \n",
              "  <style>\n",
              "    .colab-df-container {\n",
              "      display:flex;\n",
              "      flex-wrap:wrap;\n",
              "      gap: 12px;\n",
              "    }\n",
              "\n",
              "    .colab-df-convert {\n",
              "      background-color: #E8F0FE;\n",
              "      border: none;\n",
              "      border-radius: 50%;\n",
              "      cursor: pointer;\n",
              "      display: none;\n",
              "      fill: #1967D2;\n",
              "      height: 32px;\n",
              "      padding: 0 0 0 0;\n",
              "      width: 32px;\n",
              "    }\n",
              "\n",
              "    .colab-df-convert:hover {\n",
              "      background-color: #E2EBFA;\n",
              "      box-shadow: 0px 1px 2px rgba(60, 64, 67, 0.3), 0px 1px 3px 1px rgba(60, 64, 67, 0.15);\n",
              "      fill: #174EA6;\n",
              "    }\n",
              "\n",
              "    [theme=dark] .colab-df-convert {\n",
              "      background-color: #3B4455;\n",
              "      fill: #D2E3FC;\n",
              "    }\n",
              "\n",
              "    [theme=dark] .colab-df-convert:hover {\n",
              "      background-color: #434B5C;\n",
              "      box-shadow: 0px 1px 3px 1px rgba(0, 0, 0, 0.15);\n",
              "      filter: drop-shadow(0px 1px 2px rgba(0, 0, 0, 0.3));\n",
              "      fill: #FFFFFF;\n",
              "    }\n",
              "  </style>\n",
              "\n",
              "      <script>\n",
              "        const buttonEl =\n",
              "          document.querySelector('#df-6db0c199-a408-4e44-897a-389715467c00 button.colab-df-convert');\n",
              "        buttonEl.style.display =\n",
              "          google.colab.kernel.accessAllowed ? 'block' : 'none';\n",
              "\n",
              "        async function convertToInteractive(key) {\n",
              "          const element = document.querySelector('#df-6db0c199-a408-4e44-897a-389715467c00');\n",
              "          const dataTable =\n",
              "            await google.colab.kernel.invokeFunction('convertToInteractive',\n",
              "                                                     [key], {});\n",
              "          if (!dataTable) return;\n",
              "\n",
              "          const docLinkHtml = 'Like what you see? Visit the ' +\n",
              "            '<a target=\"_blank\" href=https://colab.research.google.com/notebooks/data_table.ipynb>data table notebook</a>'\n",
              "            + ' to learn more about interactive tables.';\n",
              "          element.innerHTML = '';\n",
              "          dataTable['output_type'] = 'display_data';\n",
              "          await google.colab.output.renderOutput(dataTable, element);\n",
              "          const docLink = document.createElement('div');\n",
              "          docLink.innerHTML = docLinkHtml;\n",
              "          element.appendChild(docLink);\n",
              "        }\n",
              "      </script>\n",
              "    </div>\n",
              "  </div>\n",
              "  "
            ],
            "text/plain": [
              "     theme  ... target\n",
              "0    sport  ...      7\n",
              "1  culture  ...      1\n",
              "2  science  ...      6\n",
              "3    sport  ...      7\n",
              "4    media  ...      5\n",
              "\n",
              "[5 rows x 4 columns]"
            ]
          },
          "metadata": {},
          "execution_count": 94
        }
      ]
    },
    {
      "cell_type": "code",
      "source": [
        "train_data.to_csv( \"/content/drive/MyDrive/Colab Notebooks/classification-apmath-21/data/news/filtered_train.txt\", index=False, encoding='utf-8-sig')\n",
        "test_data.to_csv( \"/content/drive/MyDrive/Colab Notebooks/classification-apmath-21/data/news/filtered_test.txt\", index=False, encoding='utf-8-sig')"
      ],
      "metadata": {
        "id": "Z8e68KW83WnH"
      },
      "execution_count": 58,
      "outputs": []
    },
    {
      "cell_type": "markdown",
      "source": [
        "3. Обучить word embeddings (fastText, word2vec, gloVe) на тренировочных данных. Можно использовать gensim . \n",
        "4. Продемонстрировать семантические ассоциации."
      ],
      "metadata": {
        "id": "CC01YrPs4UWZ"
      }
    },
    {
      "cell_type": "code",
      "source": [
        "from gensim.models import Word2Vec"
      ],
      "metadata": {
        "id": "HJnrtIcr4lrt"
      },
      "execution_count": 95,
      "outputs": []
    },
    {
      "cell_type": "code",
      "source": [
        "train = train_data[\"info\"]\n",
        "test = test_data[\"info\"]"
      ],
      "metadata": {
        "id": "Ziu7U57w5K3M"
      },
      "execution_count": 96,
      "outputs": []
    },
    {
      "cell_type": "code",
      "source": [
        "words = [text.split() for text in train]\n",
        "w2v = Word2Vec(sentences = words, min_count = 0)"
      ],
      "metadata": {
        "id": "CzAWwbcK40w_"
      },
      "execution_count": 97,
      "outputs": []
    },
    {
      "cell_type": "code",
      "source": [
        "w2v.wv.most_similar('спорт', topn=5)  "
      ],
      "metadata": {
        "colab": {
          "base_uri": "https://localhost:8080/"
        },
        "id": "lK-_CpT76B4_",
        "outputId": "83bee40b-5088-401e-e09e-42fa489ed147"
      },
      "execution_count": 98,
      "outputs": [
        {
          "output_type": "execute_result",
          "data": {
            "text/plain": [
              "[('р', 0.8418865203857422),\n",
              " ('экспресс', 0.8301019072532654),\n",
              " ('мутко', 0.7627315521240234),\n",
              " ('bild', 0.7542246580123901),\n",
              " ('футбол', 0.7366930246353149)]"
            ]
          },
          "metadata": {},
          "execution_count": 98
        }
      ]
    },
    {
      "cell_type": "code",
      "source": [
        "w2v.wv.most_similar('культура', topn=5) "
      ],
      "metadata": {
        "colab": {
          "base_uri": "https://localhost:8080/"
        },
        "id": "upnpQjuN6Kd5",
        "outputId": "eb5867bd-5f3d-49f6-ee38-30d5593c5cb0"
      },
      "execution_count": 99,
      "outputs": [
        {
          "output_type": "execute_result",
          "data": {
            "text/plain": [
              "[('деятель', 0.845112144947052),\n",
              " ('народный', 0.8272836208343506),\n",
              " ('наука', 0.8048849701881409),\n",
              " ('наследие', 0.7851907014846802),\n",
              " ('культурный', 0.7830075621604919)]"
            ]
          },
          "metadata": {},
          "execution_count": 99
        }
      ]
    },
    {
      "cell_type": "code",
      "source": [
        "w2v.wv.most_similar('наука', topn=5) "
      ],
      "metadata": {
        "colab": {
          "base_uri": "https://localhost:8080/"
        },
        "id": "3T0xXRuW6PJw",
        "outputId": "907d4639-1340-406b-ec02-5614676f5407"
      },
      "execution_count": 100,
      "outputs": [
        {
          "output_type": "execute_result",
          "data": {
            "text/plain": [
              "[('зеф', 0.8651098608970642),\n",
              " ('деятель', 0.8504012823104858),\n",
              " ('культурный', 0.8341472148895264),\n",
              " ('спрайч', 0.8288112282752991),\n",
              " ('каракалпакстан', 0.8273425102233887)]"
            ]
          },
          "metadata": {},
          "execution_count": 100
        }
      ]
    },
    {
      "cell_type": "code",
      "source": [
        "w2v.wv.most_similar('экономика', topn=5) "
      ],
      "metadata": {
        "colab": {
          "base_uri": "https://localhost:8080/"
        },
        "id": "MravwphK6Xco",
        "outputId": "2b48e56d-bfde-498a-f3aa-22c58419b5aa"
      },
      "execution_count": 101,
      "outputs": [
        {
          "output_type": "execute_result",
          "data": {
            "text/plain": [
              "[('инфляция', 0.8582209944725037),\n",
              " ('кризис', 0.8557974100112915),\n",
              " ('рецессия', 0.8554232716560364),\n",
              " ('замедление', 0.8542715311050415),\n",
              " ('рост', 0.8527257442474365)]"
            ]
          },
          "metadata": {},
          "execution_count": 101
        }
      ]
    },
    {
      "cell_type": "code",
      "source": [
        "w2v.wv.most_similar('бизнес', topn=5) "
      ],
      "metadata": {
        "colab": {
          "base_uri": "https://localhost:8080/"
        },
        "id": "-XUhirFm6aML",
        "outputId": "d3c0e3e6-d059-413f-e98a-6518022dc8fa"
      },
      "execution_count": 102,
      "outputs": [
        {
          "output_type": "execute_result",
          "data": {
            "text/plain": [
              "[('инвестиционный', 0.8342058658599854),\n",
              " ('отрасль', 0.8306347727775574),\n",
              " ('корпоративный', 0.8264024257659912),\n",
              " ('сфера', 0.8177992105484009),\n",
              " ('инвестор', 0.7992810010910034)]"
            ]
          },
          "metadata": {},
          "execution_count": 102
        }
      ]
    },
    {
      "cell_type": "code",
      "source": [
        "w2v.wv.most_similar('жизнь', topn=5) "
      ],
      "metadata": {
        "colab": {
          "base_uri": "https://localhost:8080/"
        },
        "id": "FntazTH46eQo",
        "outputId": "b126b3b2-3b59-46db-b2f5-94acdb615dc6"
      },
      "execution_count": 103,
      "outputs": [
        {
          "output_type": "execute_result",
          "data": {
            "text/plain": [
              "[('случаться', 0.7522169351577759),\n",
              " ('болезнь', 0.7465179562568665),\n",
              " ('существование', 0.734734058380127),\n",
              " ('родитель', 0.7345521450042725),\n",
              " ('жить', 0.7316579818725586)]"
            ]
          },
          "metadata": {},
          "execution_count": 103
        }
      ]
    },
    {
      "cell_type": "code",
      "source": [
        "w2v.wv.most_similar('путешествие', topn=5) "
      ],
      "metadata": {
        "colab": {
          "base_uri": "https://localhost:8080/"
        },
        "id": "7S2VUWH76lMq",
        "outputId": "7d2dfb1f-9d26-4d24-a991-5ae7af0f6974"
      },
      "execution_count": 104,
      "outputs": [
        {
          "output_type": "execute_result",
          "data": {
            "text/plain": [
              "[('путешествовать', 0.8229612708091736),\n",
              " ('замёрзлый', 0.8202993869781494),\n",
              " ('мэрфь', 0.8197442889213562),\n",
              " ('сеанс', 0.8173333406448364),\n",
              " ('долгий', 0.804823100566864)]"
            ]
          },
          "metadata": {},
          "execution_count": 104
        }
      ]
    },
    {
      "cell_type": "markdown",
      "source": [
        "Реализовать алгоритм классификации документа по категориям, посчитать точноть на тестовых данных, подобрать гиперпараметры. Метод векторизации выбрать произвольно - можно использовать  𝑡𝑓−𝑖𝑑𝑓  с понижением размерности (см. scikit-learn), можно использовать обученные на предыдущем шаге векторные представления, можно использовать предобученные модели. Имейте ввиду, что простое \"усреднение\" токенов в тексте скорее всего не даст положительных результатов. Нужно реализовать два алгоритмов из трех:\n",
        "1. SVM\n",
        "2. наивный байесовский классификатор\n",
        "3. логистическая регрессия"
      ],
      "metadata": {
        "id": "R6fiirJK6v2l"
      }
    },
    {
      "cell_type": "code",
      "source": [
        "from sklearn.svm import LinearSVC\n",
        "from sklearn.svm import SVC\n",
        "from sklearn.metrics import accuracy_score\n",
        "from sklearn.model_selection import RandomizedSearchCV\n",
        "from sklearn.model_selection import GridSearchCV\n",
        "from sklearn.naive_bayes import MultinomialNB\n",
        "from sklearn.feature_extraction.text import TfidfVectorizer\n",
        "from scipy.stats import uniform"
      ],
      "metadata": {
        "id": "d-mPb8Yg6uwT"
      },
      "execution_count": 130,
      "outputs": []
    },
    {
      "cell_type": "code",
      "source": [
        "vectorizer = TfidfVectorizer(min_df = 10, max_df = 1., ngram_range = (1,2), max_features = 1000)"
      ],
      "metadata": {
        "id": "VMCONVtk7wKj"
      },
      "execution_count": 106,
      "outputs": []
    },
    {
      "cell_type": "code",
      "source": [
        "train_tfidf = vectorizer.fit_transform(train)\n",
        "test_tfidf = vectorizer.transform(test)"
      ],
      "metadata": {
        "id": "6hIA-3xZDiMS"
      },
      "execution_count": 140,
      "outputs": []
    },
    {
      "cell_type": "code",
      "source": [
        "train_labels = np.array(train_data['target'])\n",
        "test_labels = np.array(test_data['target'])"
      ],
      "metadata": {
        "id": "K5EXmbcND9vM"
      },
      "execution_count": 141,
      "outputs": []
    },
    {
      "cell_type": "code",
      "source": [
        "distributions = dict(alpha=uniform(loc=0, scale=1.5))\n",
        "naive_bayes = RandomizedSearchCV(MultinomialNB(), distributions)\n",
        "search = naive_bayes.fit(train_tfidf, train_labels)"
      ],
      "metadata": {
        "id": "WntqwThCD-5t"
      },
      "execution_count": 142,
      "outputs": []
    },
    {
      "cell_type": "code",
      "source": [
        "pred = search.predict(test_tfidf)\n",
        "print('NB accuracy: ', accuracy_score(pred, test_labels))"
      ],
      "metadata": {
        "colab": {
          "base_uri": "https://localhost:8080/"
        },
        "id": "4HC5NduHFzGj",
        "outputId": "e74ab78e-9b9b-401f-f7dd-9a947acdf59e"
      },
      "execution_count": 143,
      "outputs": [
        {
          "output_type": "stream",
          "name": "stdout",
          "text": [
            "NB accuracy:  0.7303333333333333\n"
          ]
        }
      ]
    },
    {
      "cell_type": "code",
      "source": [
        "distributions = {'C': [1, 10, 100], 'gamma': [0.01, 0.1, 1],'kernel': ['linear', 'sigmoid']}\n",
        "svm =  GridSearchCV(SVC(), distributions, cv=2, verbose=3)\n",
        "search = svm.fit(train_tfidf, train_labels)\n",
        " "
      ],
      "metadata": {
        "colab": {
          "base_uri": "https://localhost:8080/"
        },
        "id": "EyfnNMRFG3Fs",
        "outputId": "5a8b4113-fd8d-4d46-be4d-5d159884b276"
      },
      "execution_count": 145,
      "outputs": [
        {
          "output_type": "stream",
          "name": "stdout",
          "text": [
            "Fitting 2 folds for each of 18 candidates, totalling 36 fits\n",
            "[CV 1/2] END ....C=1, gamma=0.01, kernel=linear;, score=0.840 total time=  45.3s\n",
            "[CV 2/2] END ....C=1, gamma=0.01, kernel=linear;, score=0.834 total time=  43.2s\n",
            "[CV 1/2] END ...C=1, gamma=0.01, kernel=sigmoid;, score=0.509 total time= 1.8min\n",
            "[CV 2/2] END ...C=1, gamma=0.01, kernel=sigmoid;, score=0.534 total time= 1.8min\n",
            "[CV 1/2] END .....C=1, gamma=0.1, kernel=linear;, score=0.840 total time=  43.1s\n",
            "[CV 2/2] END .....C=1, gamma=0.1, kernel=linear;, score=0.834 total time=  43.3s\n",
            "[CV 1/2] END ....C=1, gamma=0.1, kernel=sigmoid;, score=0.805 total time= 1.1min\n",
            "[CV 2/2] END ....C=1, gamma=0.1, kernel=sigmoid;, score=0.802 total time= 1.1min\n",
            "[CV 1/2] END .......C=1, gamma=1, kernel=linear;, score=0.840 total time=  42.7s\n",
            "[CV 2/2] END .......C=1, gamma=1, kernel=linear;, score=0.834 total time=  43.4s\n",
            "[CV 1/2] END ......C=1, gamma=1, kernel=sigmoid;, score=0.836 total time=  41.0s\n",
            "[CV 2/2] END ......C=1, gamma=1, kernel=sigmoid;, score=0.831 total time=  40.5s\n",
            "[CV 1/2] END ...C=10, gamma=0.01, kernel=linear;, score=0.815 total time=  39.8s\n",
            "[CV 2/2] END ...C=10, gamma=0.01, kernel=linear;, score=0.816 total time=  40.8s\n",
            "[CV 1/2] END ..C=10, gamma=0.01, kernel=sigmoid;, score=0.805 total time= 1.1min\n",
            "[CV 2/2] END ..C=10, gamma=0.01, kernel=sigmoid;, score=0.802 total time= 1.1min\n",
            "[CV 1/2] END ....C=10, gamma=0.1, kernel=linear;, score=0.815 total time=  40.2s\n",
            "[CV 2/2] END ....C=10, gamma=0.1, kernel=linear;, score=0.816 total time=  40.8s\n",
            "[CV 1/2] END ...C=10, gamma=0.1, kernel=sigmoid;, score=0.839 total time=  44.1s\n",
            "[CV 2/2] END ...C=10, gamma=0.1, kernel=sigmoid;, score=0.834 total time=  44.3s\n",
            "[CV 1/2] END ......C=10, gamma=1, kernel=linear;, score=0.815 total time=  40.0s\n",
            "[CV 2/2] END ......C=10, gamma=1, kernel=linear;, score=0.816 total time=  40.9s\n",
            "[CV 1/2] END .....C=10, gamma=1, kernel=sigmoid;, score=0.806 total time=  32.1s\n",
            "[CV 2/2] END .....C=10, gamma=1, kernel=sigmoid;, score=0.805 total time=  33.0s\n",
            "[CV 1/2] END ..C=100, gamma=0.01, kernel=linear;, score=0.812 total time=  40.1s\n",
            "[CV 2/2] END ..C=100, gamma=0.01, kernel=linear;, score=0.811 total time=  40.5s\n",
            "[CV 1/2] END .C=100, gamma=0.01, kernel=sigmoid;, score=0.840 total time=  44.0s\n",
            "[CV 2/2] END .C=100, gamma=0.01, kernel=sigmoid;, score=0.834 total time=  43.5s\n",
            "[CV 1/2] END ...C=100, gamma=0.1, kernel=linear;, score=0.812 total time=  39.5s\n",
            "[CV 2/2] END ...C=100, gamma=0.1, kernel=linear;, score=0.811 total time=  40.3s\n",
            "[CV 1/2] END ..C=100, gamma=0.1, kernel=sigmoid;, score=0.815 total time=  39.8s\n",
            "[CV 2/2] END ..C=100, gamma=0.1, kernel=sigmoid;, score=0.816 total time=  40.5s\n",
            "[CV 1/2] END .....C=100, gamma=1, kernel=linear;, score=0.812 total time=  40.3s\n",
            "[CV 2/2] END .....C=100, gamma=1, kernel=linear;, score=0.811 total time=  41.3s\n",
            "[CV 1/2] END ....C=100, gamma=1, kernel=sigmoid;, score=0.774 total time=  31.7s\n",
            "[CV 2/2] END ....C=100, gamma=1, kernel=sigmoid;, score=0.774 total time=  31.7s\n"
          ]
        }
      ]
    },
    {
      "cell_type": "code",
      "source": [
        "pred = search.predict(test_tfidf)\n",
        "print('SVM: ', accuracy_score(pred, test_labels))"
      ],
      "metadata": {
        "colab": {
          "base_uri": "https://localhost:8080/"
        },
        "id": "HbWbgbGPPb5o",
        "outputId": "658483b6-edcb-4c33-f85d-de951a9c4fb5"
      },
      "execution_count": 146,
      "outputs": [
        {
          "output_type": "stream",
          "name": "stdout",
          "text": [
            "SVM:  0.641\n"
          ]
        }
      ]
    }
  ]
}