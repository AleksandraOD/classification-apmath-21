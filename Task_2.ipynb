{
  "nbformat": 4,
  "nbformat_minor": 0,
  "metadata": {
    "kernelspec": {
      "display_name": "Python 3",
      "language": "python",
      "name": "python3"
    },
    "language_info": {
      "codemirror_mode": {
        "name": "ipython",
        "version": 3
      },
      "file_extension": ".py",
      "mimetype": "text/x-python",
      "name": "python",
      "nbconvert_exporter": "python",
      "pygments_lexer": "ipython3",
      "version": "3.6.9"
    },
    "colab": {
      "name": "Task_2.ipynb",
      "provenance": [],
      "include_colab_link": true
    }
  },
  "cells": [
    {
      "cell_type": "markdown",
      "metadata": {
        "id": "view-in-github",
        "colab_type": "text"
      },
      "source": [
        "<a href=\"https://colab.research.google.com/github/AleksandraOD/classification-apmath-21/blob/main/Task_2.ipynb\" target=\"_parent\"><img src=\"https://colab.research.google.com/assets/colab-badge.svg\" alt=\"Open In Colab\"/></a>"
      ]
    },
    {
      "cell_type": "code",
      "metadata": {
        "id": "T2ckpsimEy3Q"
      },
      "source": [
        "import numpy as np\n",
        "import scipy as sp\n",
        "import matplotlib.pyplot as plt\n",
        "import seaborn as sns\n",
        "\n",
        "%matplotlib inline"
      ],
      "execution_count": 1,
      "outputs": []
    },
    {
      "cell_type": "markdown",
      "metadata": {
        "id": "-rSeaSGtEy3T"
      },
      "source": [
        "# 1. Работа с массивами NumPy"
      ]
    },
    {
      "cell_type": "markdown",
      "metadata": {
        "id": "5Dvlyp1YEy3V"
      },
      "source": [
        "**N. Все упражнения ниже нужно делать без использования циклов Python**\n",
        "\n",
        "**1.** Cоздать вектор\n",
        "\n",
        "$$(2, \\frac{2^2}{2}, \\ldots, \\frac{2^{20}}{20})$$\n",
        "\n",
        "Можно использовать функции [np.arange()](http://docs.scipy.org/doc/numpy/reference/generated/numpy.arange.html), [np.ones()](http://docs.scipy.org/doc/numpy/reference/generated/numpy.ones.html)"
      ]
    },
    {
      "cell_type": "code",
      "metadata": {
        "colab": {
          "base_uri": "https://localhost:8080/"
        },
        "id": "YiHzpiaPEy3V",
        "outputId": "c0cf0b6c-d3e7-4fcd-d051-b8a4679556e6"
      },
      "source": [
        "## your code\n",
        "\n",
        "a = np.arange(1, 21)\n",
        "res = np.power(2, a) / a\n",
        "res"
      ],
      "execution_count": 4,
      "outputs": [
        {
          "output_type": "execute_result",
          "data": {
            "text/plain": [
              "array([2.00000000e+00, 2.00000000e+00, 2.66666667e+00, 4.00000000e+00,\n",
              "       6.40000000e+00, 1.06666667e+01, 1.82857143e+01, 3.20000000e+01,\n",
              "       5.68888889e+01, 1.02400000e+02, 1.86181818e+02, 3.41333333e+02,\n",
              "       6.30153846e+02, 1.17028571e+03, 2.18453333e+03, 4.09600000e+03,\n",
              "       7.71011765e+03, 1.45635556e+04, 2.75941053e+04, 5.24288000e+04])"
            ]
          },
          "metadata": {
            "tags": []
          },
          "execution_count": 4
        }
      ]
    },
    {
      "cell_type": "markdown",
      "metadata": {
        "id": "JIxXefZrEy3W"
      },
      "source": [
        "**2.** Посчитать:\n",
        "\n",
        "$$\\sum\\limits_{i=0}^{5}{0.1^{3i}0.2^{4i}}$$\n"
      ]
    },
    {
      "cell_type": "code",
      "metadata": {
        "colab": {
          "base_uri": "https://localhost:8080/"
        },
        "id": "d1Whg0OCEy3W",
        "outputId": "1188942c-b6bf-43da-9e2c-e1386ec76d6c"
      },
      "source": [
        "## your code\n",
        "a = np.arange(6)\n",
        "array1 = np.power(0.1, 3 * a) \n",
        "array2= np.power(0.2, 4 * a)\n",
        "res = np.dot(array1, array2)\n",
        "res"
      ],
      "execution_count": 5,
      "outputs": [
        {
          "output_type": "execute_result",
          "data": {
            "text/plain": [
              "1.00000160000256"
            ]
          },
          "metadata": {
            "tags": []
          },
          "execution_count": 5
        }
      ]
    },
    {
      "cell_type": "markdown",
      "metadata": {
        "id": "N71j_E7XEy3W"
      },
      "source": [
        "**3.** Создать нулевую матрицe $8 \\times 8$, и заполнить её единицами в шахматном порядке."
      ]
    },
    {
      "cell_type": "code",
      "metadata": {
        "colab": {
          "base_uri": "https://localhost:8080/"
        },
        "id": "MGRSFl9-Ey3X",
        "outputId": "fddabae1-9e80-4db5-9af2-40de3ac0fa8b"
      },
      "source": [
        "## your code\n",
        "m = np.zeros((8, 8), dtype=int)\n",
        "m[1::2, ::2] = 1\n",
        "m[::2, 1::2] = 1\n",
        "m"
      ],
      "execution_count": 6,
      "outputs": [
        {
          "output_type": "execute_result",
          "data": {
            "text/plain": [
              "array([[0, 1, 0, 1, 0, 1, 0, 1],\n",
              "       [1, 0, 1, 0, 1, 0, 1, 0],\n",
              "       [0, 1, 0, 1, 0, 1, 0, 1],\n",
              "       [1, 0, 1, 0, 1, 0, 1, 0],\n",
              "       [0, 1, 0, 1, 0, 1, 0, 1],\n",
              "       [1, 0, 1, 0, 1, 0, 1, 0],\n",
              "       [0, 1, 0, 1, 0, 1, 0, 1],\n",
              "       [1, 0, 1, 0, 1, 0, 1, 0]])"
            ]
          },
          "metadata": {
            "tags": []
          },
          "execution_count": 6
        }
      ]
    },
    {
      "cell_type": "markdown",
      "metadata": {
        "id": "q1IJwP3SEy3X"
      },
      "source": [
        "**4.** Есть 5 точек в декартовой системе координат (в виде матрицы $X$ размерностью $5 \\times 2$), сконвертируйте эти точки в полярную систему координат."
      ]
    },
    {
      "cell_type": "code",
      "metadata": {
        "colab": {
          "base_uri": "https://localhost:8080/"
        },
        "id": "9hRhVRW9Ey3Y",
        "outputId": "119abf4c-e5a1-43bd-ba4a-3d7f4b103179"
      },
      "source": [
        "X = np.random.random((5, 2))\n",
        "\n",
        "## your code\n",
        "print('Декартова СК\\n', X)\n",
        "X[:, 0] = np.sqrt(np.power(X[:, 0], 2) + np.power(X[:, 1], 2))\n",
        "X[:, 1] = np.arctan2(X[:, 1], X[:, 0])\n",
        "print('Полярная СК\\n', X)"
      ],
      "execution_count": 8,
      "outputs": [
        {
          "output_type": "stream",
          "text": [
            "Декартова СК\n",
            " [[0.46890804 0.42831624]\n",
            " [0.53935268 0.04682028]\n",
            " [0.63340817 0.58107258]\n",
            " [0.62035862 0.6158108 ]\n",
            " [0.97297382 0.92240463]]\n",
            "Полярная СК\n",
            " [[0.63508231 0.59335546]\n",
            " [0.54138106 0.08626839]\n",
            " [0.85956457 0.59444187]\n",
            " [0.87410969 0.61374012]\n",
            " [1.34071188 0.60262418]]\n"
          ],
          "name": "stdout"
        }
      ]
    },
    {
      "cell_type": "markdown",
      "metadata": {
        "id": "3JR4CGKIEy3Z"
      },
      "source": [
        "**5.** Найдите индексы максимального элемента в случайной матрице $10 \\times 10$.\n",
        "\n",
        "Cм. [np.argmax()](http://docs.scipy.org/doc/numpy/reference/generated/numpy.argmax.html)."
      ]
    },
    {
      "cell_type": "code",
      "metadata": {
        "colab": {
          "base_uri": "https://localhost:8080/"
        },
        "id": "4OMiV2G8Ey3Z",
        "outputId": "d6b7d1cf-4735-42a4-8009-ede80ce4711c"
      },
      "source": [
        "X = np.random.random((10, 10))\n",
        "\n",
        "## your code\n",
        "X = np.random.random((10, 10))\n",
        "print(X)\n",
        "ind = np.argmax(X)\n",
        "print('\\nзначение: ', X.flat[ind], '\\nиндексы: ', (ind // 10, ind % 10))"
      ],
      "execution_count": 11,
      "outputs": [
        {
          "output_type": "stream",
          "text": [
            "[[0.1157204  0.46608767 0.69835272 0.21798691 0.10062726 0.35759467\n",
            "  0.01228186 0.80047255 0.73071108 0.32622547]\n",
            " [0.90427615 0.44961117 0.19072115 0.68991799 0.62320305 0.91987484\n",
            "  0.99587213 0.39155409 0.30826681 0.01289833]\n",
            " [0.44712882 0.41056335 0.82138975 0.52854877 0.77017323 0.86115391\n",
            "  0.39173326 0.47267907 0.49245152 0.37760963]\n",
            " [0.89988984 0.40251887 0.04424185 0.42269936 0.30143675 0.89643331\n",
            "  0.53592371 0.41608667 0.2914079  0.80110727]\n",
            " [0.27361939 0.34110907 0.76045366 0.71927332 0.4736984  0.17395303\n",
            "  0.67972296 0.03896416 0.0590775  0.83172705]\n",
            " [0.18621322 0.19807467 0.32641079 0.70091824 0.3734781  0.73930202\n",
            "  0.62178888 0.99146632 0.15718804 0.47654438]\n",
            " [0.37884343 0.02768606 0.82636783 0.60358269 0.98099272 0.73137405\n",
            "  0.05715727 0.67203759 0.38078751 0.11538701]\n",
            " [0.66039137 0.9390728  0.02256834 0.20776528 0.24590263 0.66716324\n",
            "  0.25178332 0.53889634 0.62114656 0.44005915]\n",
            " [0.94023348 0.86781001 0.85467581 0.44806149 0.77522242 0.45368105\n",
            "  0.59157628 0.99374789 0.54258581 0.22383517]\n",
            " [0.58079565 0.20908754 0.56203726 0.49982696 0.64372074 0.61350337\n",
            "  0.11825179 0.00875071 0.14577249 0.43787764]]\n",
            "\n",
            "значение:  0.9958721325920868 \n",
            "индексы:  (1, 6)\n"
          ],
          "name": "stdout"
        }
      ]
    },
    {
      "cell_type": "markdown",
      "metadata": {
        "id": "47XpCzAMEy3a"
      },
      "source": [
        "**6.** Есть 10 точек ($X$) и ещё одна ($y$). Найти в $X$ ближайшую к $y$ точку."
      ]
    },
    {
      "cell_type": "code",
      "metadata": {
        "colab": {
          "base_uri": "https://localhost:8080/"
        },
        "id": "LWTOWL6KEy3a",
        "outputId": "140d324f-8485-4034-a906-d96028f23a57"
      },
      "source": [
        "X = np.random.random((10, 2))\n",
        "print('X:\\n', X)\n",
        "y = np.random.random((1, 2))\n",
        "print('\\ny:\\n', y)\n",
        "\n",
        "## your code\n",
        "dist = np.sqrt(\n",
        "    np.power((X[:, 0] - y[0, 0]), 2) + np.power((X[:, 1] - y[0, 1]), 2))\n",
        "print('\\n расстояния:\\n', dist)\n",
        "print('\\n ближайщая точка:\\n', X[np.argmin(dist)])"
      ],
      "execution_count": 14,
      "outputs": [
        {
          "output_type": "stream",
          "text": [
            "X:\n",
            " [[0.48367115 0.65755758]\n",
            " [0.38234748 0.58487232]\n",
            " [0.35557447 0.14211077]\n",
            " [0.29621754 0.29088004]\n",
            " [0.1304617  0.33712795]\n",
            " [0.05448951 0.4738464 ]\n",
            " [0.70304034 0.08688631]\n",
            " [0.02965514 0.77305178]\n",
            " [0.64829825 0.80829781]\n",
            " [0.94927784 0.61446569]]\n",
            "\n",
            "y:\n",
            " [[0.41208368 0.57328146]]\n",
            "\n",
            " расстояния:\n",
            " [0.1105768  0.03191535 0.43485798 0.30524667 0.36753153 0.37116159\n",
            " 0.56677688 0.43146237 0.33321165 0.53877055]\n",
            "\n",
            " ближайщая точка:\n",
            " [0.38234748 0.58487232]\n"
          ],
          "name": "stdout"
        }
      ]
    },
    {
      "cell_type": "markdown",
      "metadata": {
        "id": "nWC-c-qyEy3b"
      },
      "source": [
        "**7.** Дана функция:\n",
        "\n",
        "$$\n",
        " \\begin{cases}\n",
        "    x^2 + 2x + 6, & x < 0  \\\\\n",
        "    x + 6, & 0 \\le x \\le 2 \\\\\n",
        "    x^2 + 4x - 4, & x \\ge 2\n",
        " \\end{cases}\n",
        "$$\n",
        "\n",
        "Постройте массив из её значений на  $-3 \\le x \\le 3$."
      ]
    },
    {
      "cell_type": "code",
      "metadata": {
        "colab": {
          "base_uri": "https://localhost:8080/"
        },
        "id": "BuxwZxpVEy3b",
        "outputId": "42ed85b8-3cde-4c62-8c66-5b922d4d2de1"
      },
      "source": [
        "## your code\n",
        "@np.vectorize\n",
        "def func(x):\n",
        "    if x<0:\n",
        "        return x**2 + 2 * x + 6\n",
        "    elif x>=2:\n",
        "        return x**2 + 4 * x - 4\n",
        "    else:\n",
        "        return x+6\n",
        "\n",
        "x = np.linspace(-3, 3, 100)\n",
        "func(x)"
      ],
      "execution_count": 15,
      "outputs": [
        {
          "output_type": "execute_result",
          "data": {
            "text/plain": [
              "array([ 9.        ,  8.76124885,  8.52984389,  8.30578512,  8.08907254,\n",
              "        7.87970615,  7.67768595,  7.48301194,  7.29568411,  7.11570248,\n",
              "        6.94306703,  6.77777778,  6.61983471,  6.46923783,  6.32598714,\n",
              "        6.19008264,  6.06152433,  5.94031221,  5.82644628,  5.71992654,\n",
              "        5.62075298,  5.52892562,  5.44444444,  5.36730946,  5.29752066,\n",
              "        5.23507805,  5.17998163,  5.1322314 ,  5.09182736,  5.05876951,\n",
              "        5.03305785,  5.01469238,  5.00367309,  5.        ,  5.00367309,\n",
              "        5.01469238,  5.03305785,  5.05876951,  5.09182736,  5.1322314 ,\n",
              "        5.17998163,  5.23507805,  5.29752066,  5.36730946,  5.44444444,\n",
              "        5.52892562,  5.62075298,  5.71992654,  5.82644628,  5.94031221,\n",
              "        6.03030303,  6.09090909,  6.15151515,  6.21212121,  6.27272727,\n",
              "        6.33333333,  6.39393939,  6.45454545,  6.51515152,  6.57575758,\n",
              "        6.63636364,  6.6969697 ,  6.75757576,  6.81818182,  6.87878788,\n",
              "        6.93939394,  7.        ,  7.06060606,  7.12121212,  7.18181818,\n",
              "        7.24242424,  7.3030303 ,  7.36363636,  7.42424242,  7.48484848,\n",
              "        7.54545455,  7.60606061,  7.66666667,  7.72727273,  7.78787879,\n",
              "        7.84848485,  7.90909091,  7.96969697,  8.24334252,  8.73553719,\n",
              "        9.23507805,  9.74196511, 10.25619835, 10.77777778, 11.3067034 ,\n",
              "       11.84297521, 12.3865932 , 12.93755739, 13.49586777, 14.06152433,\n",
              "       14.63452709, 15.21487603, 15.80257117, 16.39761249, 17.        ])"
            ]
          },
          "metadata": {
            "tags": []
          },
          "execution_count": 15
        }
      ]
    },
    {
      "cell_type": "markdown",
      "metadata": {
        "id": "xaOYw-90Ey3b"
      },
      "source": [
        "**8.** Из каждого элемента матрицы вычесть среднее арифметическое от всех элементов в соответствующей строке (после чего среднее значение каждой строки должно равняться нулю).\n",
        "\n",
        "Cм. [np.mean()](http://docs.scipy.org/doc/numpy/reference/generated/numpy.mean.html)."
      ]
    },
    {
      "cell_type": "code",
      "metadata": {
        "colab": {
          "base_uri": "https://localhost:8080/"
        },
        "id": "F9onFLzCEy3c",
        "outputId": "3165bbd9-2555-4dc4-fd5c-814ce0343a9d"
      },
      "source": [
        "X = np.random.random((10, 10))\n",
        "\n",
        "## your code\n",
        "X = X - X.mean(axis=0)\n",
        "print('Check result:\\n', X.mean(axis=0))"
      ],
      "execution_count": 16,
      "outputs": [
        {
          "output_type": "stream",
          "text": [
            "Check result:\n",
            " [ 5.55111512e-17  2.22044605e-17  3.33066907e-17  3.88578059e-17\n",
            " -4.44089210e-17  2.22044605e-17  5.55111512e-18  5.55111512e-17\n",
            "  6.10622664e-17 -3.33066907e-17]\n"
          ],
          "name": "stdout"
        }
      ]
    },
    {
      "cell_type": "markdown",
      "metadata": {
        "id": "23jGZ-XhEy3d"
      },
      "source": [
        "**9.** Есть массив из 1000 чисел, полученных из генератора случайных чисел, имеющий нормальное распределение. Посчитайте выборочное среднее и выборочную дисперсию. "
      ]
    },
    {
      "cell_type": "code",
      "metadata": {
        "colab": {
          "base_uri": "https://localhost:8080/"
        },
        "id": "V20ABLbIEy3d",
        "outputId": "15a5c807-c8f8-46fb-ea26-d3e622068d65"
      },
      "source": [
        "X = np.random.normal(loc=5, scale=2., size=1000)\n",
        "print('выборочное среднее: ', np.mean(X), '\\nдисперсия: ', np.nanvar(X))"
      ],
      "execution_count": 18,
      "outputs": [
        {
          "output_type": "stream",
          "text": [
            "выборочное среднее:  5.0231729356088985 \n",
            "дисперсия:  4.084372939869875\n"
          ],
          "name": "stdout"
        }
      ]
    },
    {
      "cell_type": "markdown",
      "metadata": {
        "id": "NkMwRwg6Ey3d"
      },
      "source": [
        "**10.** Создать матрицу:\n",
        "\n",
        "$$\n",
        "\\begin{pmatrix}\n",
        "0 & 1 & 2 & 3 & 4 \\\\\n",
        "1 & 2 & 3 & 4 & 0 \\\\\n",
        "2 & 3 & 4 & 0 & 1 \\\\\n",
        "3 & 4 & 0 & 1 & 2 \\\\\n",
        "4 & 0 & 1 & 2 & 3\n",
        "\\end{pmatrix}\n",
        "$$"
      ]
    },
    {
      "cell_type": "code",
      "metadata": {
        "colab": {
          "base_uri": "https://localhost:8080/"
        },
        "id": "q4EMtGZ9Ey3e",
        "outputId": "8965457d-4faf-4008-89a9-b8d92e3cd241"
      },
      "source": [
        "## your code\n",
        "np.indices((5, 5)).sum(axis = 0) % 5"
      ],
      "execution_count": 19,
      "outputs": [
        {
          "output_type": "execute_result",
          "data": {
            "text/plain": [
              "array([[0, 1, 2, 3, 4],\n",
              "       [1, 2, 3, 4, 0],\n",
              "       [2, 3, 4, 0, 1],\n",
              "       [3, 4, 0, 1, 2],\n",
              "       [4, 0, 1, 2, 3]])"
            ]
          },
          "metadata": {
            "tags": []
          },
          "execution_count": 19
        }
      ]
    },
    {
      "cell_type": "markdown",
      "metadata": {
        "id": "n-GnzIISEy3f"
      },
      "source": [
        "**11.** Есть следующий алгоритм семплинирования, на вход функции подается вектор из целых положительных чисел и число семплов."
      ]
    },
    {
      "cell_type": "code",
      "metadata": {
        "colab": {
          "base_uri": "https://localhost:8080/"
        },
        "id": "QQAePtnpEy3f",
        "outputId": "bdb981d9-04ac-41f4-b74d-51ad233ce0cf"
      },
      "source": [
        "def sample(x, c):\n",
        "    assert len(x) > 0\n",
        "    \n",
        "    s = np.sum(x)\n",
        "    res = []\n",
        "    for _ in range(c):\n",
        "        val = s * np.random.random()\n",
        "        cur, idx = 0, 0        \n",
        "        while cur + x[idx] <= val:\n",
        "            cur += x[idx]\n",
        "            idx += 1\n",
        "            \n",
        "        res.append(idx)\n",
        "    return res\n",
        "\n",
        "            \n",
        "sample([50, 3, 1, 7, 20], 5)    "
      ],
      "execution_count": 29,
      "outputs": [
        {
          "output_type": "execute_result",
          "data": {
            "text/plain": [
              "[3, 0, 0, 0, 0]"
            ]
          },
          "metadata": {
            "tags": []
          },
          "execution_count": 29
        }
      ]
    },
    {
      "cell_type": "markdown",
      "metadata": {
        "id": "9e-gAKbaEy3g"
      },
      "source": [
        "Реализуйте данный алгоритм более оптимальным способом, без использования циклов."
      ]
    },
    {
      "cell_type": "code",
      "metadata": {
        "colab": {
          "base_uri": "https://localhost:8080/"
        },
        "id": "yO8eQbCzEy3g",
        "outputId": "b2d0005d-b5cb-4b8f-f644-6456f61aff02"
      },
      "source": [
        "## your code\n",
        "def opt_sample(x, c):\n",
        "    assert len(x) > 0\n",
        "\n",
        "    indx = np.arange(0, len(x))\n",
        "    prob = x / np.sum(x)\n",
        "    return np.random.choice(indx, size=c, p=prob)\n",
        "\n",
        "opt_sample([50, 3, 1, 7, 20], 5)"
      ],
      "execution_count": 30,
      "outputs": [
        {
          "output_type": "execute_result",
          "data": {
            "text/plain": [
              "array([3, 0, 0, 0, 0])"
            ]
          },
          "metadata": {
            "tags": []
          },
          "execution_count": 30
        }
      ]
    }
  ]
}