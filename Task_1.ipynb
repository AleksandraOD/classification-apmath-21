{
  "nbformat": 4,
  "nbformat_minor": 0,
  "metadata": {
    "kernelspec": {
      "display_name": "Python 3",
      "language": "python",
      "name": "python3"
    },
    "language_info": {
      "codemirror_mode": {
        "name": "ipython",
        "version": 3
      },
      "file_extension": ".py",
      "mimetype": "text/x-python",
      "name": "python",
      "nbconvert_exporter": "python",
      "pygments_lexer": "ipython3",
      "version": "3.6.9"
    },
    "colab": {
      "name": "Копия блокнота \"Task_1.ipynb\"",
      "provenance": [],
      "toc_visible": true
    }
  },
  "cells": [
    {
      "cell_type": "markdown",
      "metadata": {
        "id": "bhaWe8JwBRtm"
      },
      "source": [
        "# Задание 1\n",
        "\n",
        "[Свертка списка](https://ru.wikipedia.org/wiki/%D0%A1%D0%B2%D1%91%D1%80%D1%82%D0%BA%D0%B0_%D1%81%D0%BF%D0%B8%D1%81%D0%BA%D0%B0) -  это обобщенная операция над списком, c помощью которой можно преобразовать список в единое значение. Например, рассмотрим реализации свертки слева и свертки справа (левоассоциативную свертку и правоассоциативную свертку):"
      ]
    },
    {
      "cell_type": "code",
      "metadata": {
        "collapsed": true,
        "jupyter": {
          "outputs_hidden": true
        },
        "id": "AUOgY1efBRtz"
      },
      "source": [
        "def foldl(f, x0, lst):\n",
        "    if not lst:\n",
        "        return x0\n",
        "    return foldl(f, f(x0, lst[0]), lst[1:])\n",
        "\n",
        "def foldr(f, x0, lst):\n",
        "    if not lst:\n",
        "        return x0\n",
        "    return f(lst[0], foldr(f, x0, lst[1:]))"
      ],
      "execution_count": null,
      "outputs": []
    },
    {
      "cell_type": "code",
      "metadata": {
        "id": "-jgopUwtBRt0",
        "colab": {
          "base_uri": "https://localhost:8080/"
        },
        "outputId": "0e07317a-64aa-491f-fcf1-06e4cad10198"
      },
      "source": [
        "#сумма\n",
        "foldl(lambda x, y: x + y, 0, [1, 2, 3])"
      ],
      "execution_count": null,
      "outputs": [
        {
          "output_type": "execute_result",
          "data": {
            "text/plain": [
              "6"
            ]
          },
          "metadata": {
            "tags": []
          },
          "execution_count": 3
        }
      ]
    },
    {
      "cell_type": "code",
      "metadata": {
        "id": "XCNcSwyiBRt2",
        "colab": {
          "base_uri": "https://localhost:8080/",
          "height": 37
        },
        "outputId": "c620aa83-3498-4485-a4a5-937616ba983d"
      },
      "source": [
        "#конкатенация\n",
        "foldl(lambda x, y: '{}{}'.format(x, y), '', [1, 2, 3])"
      ],
      "execution_count": null,
      "outputs": [
        {
          "output_type": "execute_result",
          "data": {
            "application/vnd.google.colaboratory.intrinsic+json": {
              "type": "string"
            },
            "text/plain": [
              "'123'"
            ]
          },
          "metadata": {
            "tags": []
          },
          "execution_count": 4
        }
      ]
    },
    {
      "cell_type": "code",
      "metadata": {
        "id": "KPPf8kYXBRt3",
        "colab": {
          "base_uri": "https://localhost:8080/"
        },
        "outputId": "9b3d74e2-af68-4de0-ce79-493e2e6996e4"
      },
      "source": [
        "f = lambda x, y: x / y\n",
        "foldl(f, 1, [1, 2, 3]), \\\n",
        "foldr(f, 1, [1, 2, 3])"
      ],
      "execution_count": null,
      "outputs": [
        {
          "output_type": "execute_result",
          "data": {
            "text/plain": [
              "(0.16666666666666666, 1.5)"
            ]
          },
          "metadata": {
            "tags": []
          },
          "execution_count": 5
        }
      ]
    },
    {
      "cell_type": "markdown",
      "metadata": {
        "id": "grHhljZNBRt3"
      },
      "source": [
        "Задача: реализовать foldl через foldr и наоборот. Вместо многоточий нужно вставить выражения, которые бы привели к нужному результату. Модифицировать сам список нельзя. "
      ]
    },
    {
      "cell_type": "code",
      "metadata": {
        "collapsed": true,
        "jupyter": {
          "outputs_hidden": true
        },
        "id": "SAdyXWzlBRt4"
      },
      "source": [
        "def foldl2(f, x0, lst):\n",
        "    return foldr(lambda val, acc: lambda n: acc(f(n, val)), lambda x: x, lst)(x0)"
      ],
      "execution_count": null,
      "outputs": []
    },
    {
      "cell_type": "code",
      "metadata": {
        "id": "dRsvuTrPB7OI",
        "colab": {
          "base_uri": "https://localhost:8080/",
          "height": 37
        },
        "outputId": "a68a9282-fad5-47d9-c8b3-bc5159ca58a6"
      },
      "source": [
        "foldl2(lambda x, y: '{}{}'.format(x, y), '', [1, 2, 3])"
      ],
      "execution_count": null,
      "outputs": [
        {
          "output_type": "execute_result",
          "data": {
            "application/vnd.google.colaboratory.intrinsic+json": {
              "type": "string"
            },
            "text/plain": [
              "'123'"
            ]
          },
          "metadata": {
            "tags": []
          },
          "execution_count": 7
        }
      ]
    },
    {
      "cell_type": "code",
      "metadata": {
        "collapsed": true,
        "jupyter": {
          "outputs_hidden": true
        },
        "id": "nhDVWXuPBRt5"
      },
      "source": [
        "def foldr2(f, x0, lst):\n",
        "    return foldl(lambda acc, val: lambda n: acc(f(val, n)), lambda x: x,lst)(x0)"
      ],
      "execution_count": null,
      "outputs": []
    },
    {
      "cell_type": "code",
      "metadata": {
        "id": "z35VpzhECE7m",
        "colab": {
          "base_uri": "https://localhost:8080/"
        },
        "outputId": "268853e9-203f-457b-d38a-b352cb2ae5a1"
      },
      "source": [
        "foldr2(lambda x, y: x + y, 0, [1, 2, 3])"
      ],
      "execution_count": null,
      "outputs": [
        {
          "output_type": "execute_result",
          "data": {
            "text/plain": [
              "6"
            ]
          },
          "metadata": {
            "tags": []
          },
          "execution_count": 9
        }
      ]
    },
    {
      "cell_type": "code",
      "metadata": {
        "id": "gkOAUP7KCGle",
        "colab": {
          "base_uri": "https://localhost:8080/"
        },
        "outputId": "553e4e75-93da-4f89-a13a-44bfb0f488e4"
      },
      "source": [
        "foldl2(f, 1, [1, 2, 3]), \\\n",
        "foldr2(f, 1, [1, 2, 3])"
      ],
      "execution_count": null,
      "outputs": [
        {
          "output_type": "execute_result",
          "data": {
            "text/plain": [
              "(0.16666666666666666, 1.5)"
            ]
          },
          "metadata": {
            "tags": []
          },
          "execution_count": 10
        }
      ]
    },
    {
      "cell_type": "markdown",
      "metadata": {
        "id": "OdVedzSEBRt6"
      },
      "source": [
        "# Задание 2\n",
        "\n",
        "нужно написать функцию, которая принимает две строки и проверяет, входит ли хотя бы одна перестановка второй строки в первую. Например:\n",
        "\n",
        "> a = 'abcrotm'\n",
        "> \n",
        "> b = 'tro'\n",
        "\n",
        "функция def check_inv(a, b) вернет True, так как 'rot' содержится в 'abcrotm'. Нужно подумать как можно более оптимальный алгоритм и оценить его сложность. "
      ]
    },
    {
      "cell_type": "code",
      "metadata": {
        "id": "CXc2uBXrC0RL"
      },
      "source": [
        "from collections import Counter"
      ],
      "execution_count": null,
      "outputs": []
    },
    {
      "cell_type": "code",
      "metadata": {
        "collapsed": true,
        "jupyter": {
          "outputs_hidden": true
        },
        "id": "Dx0y4I_KBRt6"
      },
      "source": [
        "def check_inv(a, b):\n",
        "    count = Counter(b)\n",
        "    len_b = len(b)\n",
        "    for _ in a:\n",
        "      if count[_] > 0:\n",
        "        count[_] -= 1\n",
        "      else:\n",
        "        if sum(count.values()) < len_b:\n",
        "                count = Counter(b)\n",
        "\n",
        "      if sum(count.values()) == 0:\n",
        "            return True\n",
        "    return False"
      ],
      "execution_count": null,
      "outputs": []
    },
    {
      "cell_type": "code",
      "metadata": {
        "id": "aTRMxtWIES_H",
        "colab": {
          "base_uri": "https://localhost:8080/"
        },
        "outputId": "d4382967-5d09-4569-d727-0a5a7bb2fd67"
      },
      "source": [
        "a = 'abcrotm'\n",
        "b = 'tro'\n",
        "check_inv(a,b)"
      ],
      "execution_count": null,
      "outputs": [
        {
          "output_type": "execute_result",
          "data": {
            "text/plain": [
              "True"
            ]
          },
          "metadata": {
            "tags": []
          },
          "execution_count": 14
        }
      ]
    },
    {
      "cell_type": "code",
      "metadata": {
        "id": "FuSYD9g8EZMH",
        "colab": {
          "base_uri": "https://localhost:8080/"
        },
        "outputId": "412e3da4-925c-47f1-a2c8-7a39657c5dde"
      },
      "source": [
        "a = 'adfteom'\n",
        "b = 'ltr'\n",
        "check_inv(a,b)"
      ],
      "execution_count": null,
      "outputs": [
        {
          "output_type": "execute_result",
          "data": {
            "text/plain": [
              "False"
            ]
          },
          "metadata": {
            "tags": []
          },
          "execution_count": 15
        }
      ]
    },
    {
      "cell_type": "markdown",
      "metadata": {
        "id": "oTajUGgXBRt6"
      },
      "source": [
        "# Задание 3\n",
        "\n",
        "Реализовать бинарное дерево (класс Tree), в нём методы __repr__, __str__, __iter__ (итерация только по листьям)."
      ]
    },
    {
      "cell_type": "code",
      "metadata": {
        "id": "8mPCE3IiBRt7",
        "colab": {
          "base_uri": "https://localhost:8080/"
        },
        "outputId": "8a2e3e14-3600-40ba-cd9f-5423ffa7c92b"
      },
      "source": [
        "class Tree:\n",
        "    def __init__(self, value=None, left=None, right=None):\n",
        "        self.left = left\n",
        "        self.right = right\n",
        "        self.value = value\n",
        "        \n",
        "    def __iter__(self):\n",
        "        return iter(self.new_nodes())\n",
        "    \n",
        "    def __str__(self):\n",
        "        return f\"vertex {self.value}, left node {self.left.new_value()}, right node {self.right.new_value()}\"\n",
        "    \n",
        "    def __repr__(self):\n",
        "        return f\"({self.value}, {repr(self.left)}, {repr(self.right)})\"\n",
        "    \n",
        "    def new_nodes(self):\n",
        "        if self.left is None and self.right is None:\n",
        "            return [self.value]\n",
        "        nodes = []\n",
        "        if self.left is not None:\n",
        "            nodes.extend(self.left.new_nodes())\n",
        "        if self.right is not None:\n",
        "            nodes.extend(self.right.new_nodes())\n",
        "        return nodes\n",
        "\n",
        "    def new_value(self):\n",
        "        return str(self.value)\n",
        "    \n",
        "tree = Tree(0, Tree(1, Tree(3), Tree(4)),                             \n",
        "               Tree(2))\n",
        "\n",
        "list(tree) == [3, 4, 2]"
      ],
      "execution_count": null,
      "outputs": [
        {
          "output_type": "execute_result",
          "data": {
            "text/plain": [
              "True"
            ]
          },
          "metadata": {
            "tags": []
          },
          "execution_count": 22
        }
      ]
    },
    {
      "cell_type": "code",
      "metadata": {
        "id": "2SHMxdhDH3Gq",
        "colab": {
          "base_uri": "https://localhost:8080/"
        },
        "outputId": "1c466dbb-2f9f-4188-e448-33cb8ede342b"
      },
      "source": [
        "print(tree)\n",
        "print(repr(tree))\n",
        "print(list(tree))"
      ],
      "execution_count": null,
      "outputs": [
        {
          "output_type": "stream",
          "text": [
            "vertex 0, left node 1, right node 2\n",
            "(0, (1, (3, None, None), (4, None, None)), (2, None, None))\n",
            "[3, 4, 2]\n"
          ],
          "name": "stdout"
        }
      ]
    },
    {
      "cell_type": "markdown",
      "metadata": {
        "id": "rk-3-_jqBRt7"
      },
      "source": [
        "# Задание 4\n",
        "\n",
        "Реализовать простейший калькулятор математических выражений:\n",
        "- только целые числа\n",
        "- **+**, **\\-**, **\\***, **\\**\n",
        "- скобки\n",
        "\n",
        "**Можно использовать регулярные выражения**"
      ]
    },
    {
      "cell_type": "code",
      "metadata": {
        "id": "c5-Tc1_iBRt7"
      },
      "source": [
        "def calc(expr):\n",
        "    pass\n",
        "\n",
        "calc('2 * (15 - 3 * 4) - 2') == 4"
      ],
      "execution_count": null,
      "outputs": []
    },
    {
      "cell_type": "code",
      "metadata": {
        "collapsed": true,
        "jupyter": {
          "outputs_hidden": true
        },
        "id": "stoOoGF-BRt8"
      },
      "source": [
        ""
      ],
      "execution_count": null,
      "outputs": []
    }
  ]
}